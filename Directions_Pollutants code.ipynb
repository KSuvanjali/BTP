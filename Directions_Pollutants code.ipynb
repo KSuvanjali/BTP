{
  "metadata": {
    "language_info": {
      "codemirror_mode": {
        "name": "python",
        "version": 3
      },
      "file_extension": ".py",
      "mimetype": "text/x-python",
      "name": "python",
      "nbconvert_exporter": "python",
      "pygments_lexer": "ipython3",
      "version": "3.8"
    },
    "kernelspec": {
      "name": "python",
      "display_name": "Python (Pyodide)",
      "language": "python"
    }
  },
  "nbformat_minor": 4,
  "nbformat": 4,
  "cells": [
    {
      "cell_type": "code",
      "source": "import pandas as pd",
      "metadata": {
        "trusted": true
      },
      "execution_count": 1,
      "outputs": []
    },
    {
      "cell_type": "code",
      "source": "%pip install openpyxl",
      "metadata": {
        "trusted": true
      },
      "execution_count": 2,
      "outputs": []
    },
    {
      "cell_type": "code",
      "source": "# WD = pd.read_table(\"New_Data.txt\",header=0,names=['Date','Wind_degree','Wind_speed'])",
      "metadata": {
        "trusted": true
      },
      "execution_count": 2,
      "outputs": []
    },
    {
      "cell_type": "code",
      "source": "WD = pd.read_excel(\"5 years_1.xlsx\")",
      "metadata": {
        "trusted": true
      },
      "execution_count": 3,
      "outputs": []
    },
    {
      "cell_type": "code",
      "source": "use_cols = ['Date','CO','Ozone','NO','NO2','NOx','NH3','SO2','PM2.5','PM10','Benzene','Toluene','Xylene','Temp','RH','Wind_degree','Wind_speed','SR','RF']",
      "metadata": {
        "trusted": true
      },
      "execution_count": 9,
      "outputs": []
    },
    {
      "cell_type": "code",
      "source": "WD.columns = use_cols",
      "metadata": {
        "trusted": true
      },
      "execution_count": 10,
      "outputs": []
    },
    {
      "cell_type": "code",
      "source": "WD.head()",
      "metadata": {
        "trusted": true
      },
      "execution_count": 11,
      "outputs": [
        {
          "execution_count": 11,
          "output_type": "execute_result",
          "data": {
            "text/plain": "            Date    CO Ozone    NO   NO2    NOx   NH3   SO2 PM2.5 PM10  \\\n0  01-01-18 M on  0.94  95.5   1.5  22.9   24.4  11.4   5.5    58   96   \n1   02-01-18 Tue  1.02    99   1.5  28.9   30.4  11.9  10.1    65  109   \n2   03-01-18 Wed  1.08  85.2   4.4  41.9   46.2  13.3  12.9    78  151   \n3   04-01-18 Thu  1.91  34.2  30.9  81.8  112.8  17.2  33.2   109  234   \n4   05-01-18 Fri  1.51  57.1  41.4  59.7  101.2  14.1  11.3    90  175   \n\n  Benzene Toluene Xylene  Temp  RH Wind_degree Wind_speed   SR RF  \n0     2.6     3.5    0.6    25  65         160        2.2   79  0  \n1       3     3.8    0.8  24.7  60         176          2  120  0  \n2     2.9     6.2    1.7  24.2  62         124        1.4  118  0  \n3     3.4     6.1    2.5    23  69         214        0.8  111  0  \n4     4.5     7.8    3.3  23.2  67         221        1.3  151  0  ",
            "text/html": "<div>\n<style scoped>\n    .dataframe tbody tr th:only-of-type {\n        vertical-align: middle;\n    }\n\n    .dataframe tbody tr th {\n        vertical-align: top;\n    }\n\n    .dataframe thead th {\n        text-align: right;\n    }\n</style>\n<table border=\"1\" class=\"dataframe\">\n  <thead>\n    <tr style=\"text-align: right;\">\n      <th></th>\n      <th>Date</th>\n      <th>CO</th>\n      <th>Ozone</th>\n      <th>NO</th>\n      <th>NO2</th>\n      <th>NOx</th>\n      <th>NH3</th>\n      <th>SO2</th>\n      <th>PM2.5</th>\n      <th>PM10</th>\n      <th>Benzene</th>\n      <th>Toluene</th>\n      <th>Xylene</th>\n      <th>Temp</th>\n      <th>RH</th>\n      <th>Wind_degree</th>\n      <th>Wind_speed</th>\n      <th>SR</th>\n      <th>RF</th>\n    </tr>\n  </thead>\n  <tbody>\n    <tr>\n      <th>0</th>\n      <td>01-01-18 M on</td>\n      <td>0.94</td>\n      <td>95.5</td>\n      <td>1.5</td>\n      <td>22.9</td>\n      <td>24.4</td>\n      <td>11.4</td>\n      <td>5.5</td>\n      <td>58</td>\n      <td>96</td>\n      <td>2.6</td>\n      <td>3.5</td>\n      <td>0.6</td>\n      <td>25</td>\n      <td>65</td>\n      <td>160</td>\n      <td>2.2</td>\n      <td>79</td>\n      <td>0</td>\n    </tr>\n    <tr>\n      <th>1</th>\n      <td>02-01-18 Tue</td>\n      <td>1.02</td>\n      <td>99</td>\n      <td>1.5</td>\n      <td>28.9</td>\n      <td>30.4</td>\n      <td>11.9</td>\n      <td>10.1</td>\n      <td>65</td>\n      <td>109</td>\n      <td>3</td>\n      <td>3.8</td>\n      <td>0.8</td>\n      <td>24.7</td>\n      <td>60</td>\n      <td>176</td>\n      <td>2</td>\n      <td>120</td>\n      <td>0</td>\n    </tr>\n    <tr>\n      <th>2</th>\n      <td>03-01-18 Wed</td>\n      <td>1.08</td>\n      <td>85.2</td>\n      <td>4.4</td>\n      <td>41.9</td>\n      <td>46.2</td>\n      <td>13.3</td>\n      <td>12.9</td>\n      <td>78</td>\n      <td>151</td>\n      <td>2.9</td>\n      <td>6.2</td>\n      <td>1.7</td>\n      <td>24.2</td>\n      <td>62</td>\n      <td>124</td>\n      <td>1.4</td>\n      <td>118</td>\n      <td>0</td>\n    </tr>\n    <tr>\n      <th>3</th>\n      <td>04-01-18 Thu</td>\n      <td>1.91</td>\n      <td>34.2</td>\n      <td>30.9</td>\n      <td>81.8</td>\n      <td>112.8</td>\n      <td>17.2</td>\n      <td>33.2</td>\n      <td>109</td>\n      <td>234</td>\n      <td>3.4</td>\n      <td>6.1</td>\n      <td>2.5</td>\n      <td>23</td>\n      <td>69</td>\n      <td>214</td>\n      <td>0.8</td>\n      <td>111</td>\n      <td>0</td>\n    </tr>\n    <tr>\n      <th>4</th>\n      <td>05-01-18 Fri</td>\n      <td>1.51</td>\n      <td>57.1</td>\n      <td>41.4</td>\n      <td>59.7</td>\n      <td>101.2</td>\n      <td>14.1</td>\n      <td>11.3</td>\n      <td>90</td>\n      <td>175</td>\n      <td>4.5</td>\n      <td>7.8</td>\n      <td>3.3</td>\n      <td>23.2</td>\n      <td>67</td>\n      <td>221</td>\n      <td>1.3</td>\n      <td>151</td>\n      <td>0</td>\n    </tr>\n  </tbody>\n</table>\n</div>"
          },
          "metadata": {}
        }
      ]
    },
    {
      "cell_type": "code",
      "source": "WD.shape",
      "metadata": {
        "trusted": true
      },
      "execution_count": 12,
      "outputs": [
        {
          "execution_count": 12,
          "output_type": "execute_result",
          "data": {
            "text/plain": "(2006, 19)"
          },
          "metadata": {}
        }
      ]
    },
    {
      "cell_type": "code",
      "source": "WD.dtypes",
      "metadata": {
        "trusted": true
      },
      "execution_count": 13,
      "outputs": [
        {
          "execution_count": 13,
          "output_type": "execute_result",
          "data": {
            "text/plain": "Date           object\nCO             object\nOzone          object\nNO             object\nNO2            object\nNOx            object\nNH3            object\nSO2            object\nPM2.5          object\nPM10           object\nBenzene        object\nToluene        object\nXylene         object\nTemp           object\nRH             object\nWind_degree    object\nWind_speed     object\nSR             object\nRF             object\ndtype: object"
          },
          "metadata": {}
        }
      ]
    },
    {
      "cell_type": "code",
      "source": "WD.Wind_degree[1273]",
      "metadata": {
        "trusted": true
      },
      "execution_count": 14,
      "outputs": [
        {
          "execution_count": 14,
          "output_type": "execute_result",
          "data": {
            "text/plain": "'-'"
          },
          "metadata": {}
        }
      ]
    },
    {
      "cell_type": "code",
      "source": "index = []\nfor i, wind_degree in WD.Wind_degree.items():\n    if wind_degree in ['-','Maint.*']:\n        # print(wind_degree)  # Print the value for debugging\n        index.append(i)\n",
      "metadata": {
        "trusted": true
      },
      "execution_count": 15,
      "outputs": []
    },
    {
      "cell_type": "code",
      "source": "len(index)",
      "metadata": {
        "trusted": true
      },
      "execution_count": 16,
      "outputs": [
        {
          "execution_count": 16,
          "output_type": "execute_result",
          "data": {
            "text/plain": "39"
          },
          "metadata": {}
        }
      ]
    },
    {
      "cell_type": "code",
      "source": "WD.drop(index,axis = 0,inplace=True)",
      "metadata": {
        "trusted": true
      },
      "execution_count": 17,
      "outputs": []
    },
    {
      "cell_type": "code",
      "source": "WD.shape",
      "metadata": {
        "trusted": true
      },
      "execution_count": 18,
      "outputs": [
        {
          "execution_count": 18,
          "output_type": "execute_result",
          "data": {
            "text/plain": "(1967, 19)"
          },
          "metadata": {}
        }
      ]
    },
    {
      "cell_type": "code",
      "source": " WD['Wind_degree']=WD.Wind_degree.astype(int)",
      "metadata": {
        "trusted": true
      },
      "execution_count": 19,
      "outputs": []
    },
    {
      "cell_type": "code",
      "source": "WD.dtypes",
      "metadata": {
        "trusted": true
      },
      "execution_count": 20,
      "outputs": [
        {
          "execution_count": 20,
          "output_type": "execute_result",
          "data": {
            "text/plain": "Date           object\nCO             object\nOzone          object\nNO             object\nNO2            object\nNOx            object\nNH3            object\nSO2            object\nPM2.5          object\nPM10           object\nBenzene        object\nToluene        object\nXylene         object\nTemp           object\nRH             object\nWind_degree     int32\nWind_speed     object\nSR             object\nRF             object\ndtype: object"
          },
          "metadata": {}
        }
      ]
    },
    {
      "cell_type": "code",
      "source": "WD.head()",
      "metadata": {
        "trusted": true
      },
      "execution_count": 21,
      "outputs": [
        {
          "execution_count": 21,
          "output_type": "execute_result",
          "data": {
            "text/plain": "            Date    CO Ozone    NO   NO2    NOx   NH3   SO2 PM2.5 PM10  \\\n0  01-01-18 M on  0.94  95.5   1.5  22.9   24.4  11.4   5.5    58   96   \n1   02-01-18 Tue  1.02    99   1.5  28.9   30.4  11.9  10.1    65  109   \n2   03-01-18 Wed  1.08  85.2   4.4  41.9   46.2  13.3  12.9    78  151   \n3   04-01-18 Thu  1.91  34.2  30.9  81.8  112.8  17.2  33.2   109  234   \n4   05-01-18 Fri  1.51  57.1  41.4  59.7  101.2  14.1  11.3    90  175   \n\n  Benzene Toluene Xylene  Temp  RH  Wind_degree Wind_speed   SR RF  \n0     2.6     3.5    0.6    25  65          160        2.2   79  0  \n1       3     3.8    0.8  24.7  60          176          2  120  0  \n2     2.9     6.2    1.7  24.2  62          124        1.4  118  0  \n3     3.4     6.1    2.5    23  69          214        0.8  111  0  \n4     4.5     7.8    3.3  23.2  67          221        1.3  151  0  ",
            "text/html": "<div>\n<style scoped>\n    .dataframe tbody tr th:only-of-type {\n        vertical-align: middle;\n    }\n\n    .dataframe tbody tr th {\n        vertical-align: top;\n    }\n\n    .dataframe thead th {\n        text-align: right;\n    }\n</style>\n<table border=\"1\" class=\"dataframe\">\n  <thead>\n    <tr style=\"text-align: right;\">\n      <th></th>\n      <th>Date</th>\n      <th>CO</th>\n      <th>Ozone</th>\n      <th>NO</th>\n      <th>NO2</th>\n      <th>NOx</th>\n      <th>NH3</th>\n      <th>SO2</th>\n      <th>PM2.5</th>\n      <th>PM10</th>\n      <th>Benzene</th>\n      <th>Toluene</th>\n      <th>Xylene</th>\n      <th>Temp</th>\n      <th>RH</th>\n      <th>Wind_degree</th>\n      <th>Wind_speed</th>\n      <th>SR</th>\n      <th>RF</th>\n    </tr>\n  </thead>\n  <tbody>\n    <tr>\n      <th>0</th>\n      <td>01-01-18 M on</td>\n      <td>0.94</td>\n      <td>95.5</td>\n      <td>1.5</td>\n      <td>22.9</td>\n      <td>24.4</td>\n      <td>11.4</td>\n      <td>5.5</td>\n      <td>58</td>\n      <td>96</td>\n      <td>2.6</td>\n      <td>3.5</td>\n      <td>0.6</td>\n      <td>25</td>\n      <td>65</td>\n      <td>160</td>\n      <td>2.2</td>\n      <td>79</td>\n      <td>0</td>\n    </tr>\n    <tr>\n      <th>1</th>\n      <td>02-01-18 Tue</td>\n      <td>1.02</td>\n      <td>99</td>\n      <td>1.5</td>\n      <td>28.9</td>\n      <td>30.4</td>\n      <td>11.9</td>\n      <td>10.1</td>\n      <td>65</td>\n      <td>109</td>\n      <td>3</td>\n      <td>3.8</td>\n      <td>0.8</td>\n      <td>24.7</td>\n      <td>60</td>\n      <td>176</td>\n      <td>2</td>\n      <td>120</td>\n      <td>0</td>\n    </tr>\n    <tr>\n      <th>2</th>\n      <td>03-01-18 Wed</td>\n      <td>1.08</td>\n      <td>85.2</td>\n      <td>4.4</td>\n      <td>41.9</td>\n      <td>46.2</td>\n      <td>13.3</td>\n      <td>12.9</td>\n      <td>78</td>\n      <td>151</td>\n      <td>2.9</td>\n      <td>6.2</td>\n      <td>1.7</td>\n      <td>24.2</td>\n      <td>62</td>\n      <td>124</td>\n      <td>1.4</td>\n      <td>118</td>\n      <td>0</td>\n    </tr>\n    <tr>\n      <th>3</th>\n      <td>04-01-18 Thu</td>\n      <td>1.91</td>\n      <td>34.2</td>\n      <td>30.9</td>\n      <td>81.8</td>\n      <td>112.8</td>\n      <td>17.2</td>\n      <td>33.2</td>\n      <td>109</td>\n      <td>234</td>\n      <td>3.4</td>\n      <td>6.1</td>\n      <td>2.5</td>\n      <td>23</td>\n      <td>69</td>\n      <td>214</td>\n      <td>0.8</td>\n      <td>111</td>\n      <td>0</td>\n    </tr>\n    <tr>\n      <th>4</th>\n      <td>05-01-18 Fri</td>\n      <td>1.51</td>\n      <td>57.1</td>\n      <td>41.4</td>\n      <td>59.7</td>\n      <td>101.2</td>\n      <td>14.1</td>\n      <td>11.3</td>\n      <td>90</td>\n      <td>175</td>\n      <td>4.5</td>\n      <td>7.8</td>\n      <td>3.3</td>\n      <td>23.2</td>\n      <td>67</td>\n      <td>221</td>\n      <td>1.3</td>\n      <td>151</td>\n      <td>0</td>\n    </tr>\n  </tbody>\n</table>\n</div>"
          },
          "metadata": {}
        }
      ]
    },
    {
      "cell_type": "code",
      "source": "indu = []\nfor i,Date in WD.Date.items():\n    if Date in ['Minimum','Maximum','Average']:\n        indu.append(i)",
      "metadata": {
        "trusted": true
      },
      "execution_count": 22,
      "outputs": []
    },
    {
      "cell_type": "code",
      "source": "len(indu)",
      "metadata": {
        "trusted": true
      },
      "execution_count": 23,
      "outputs": [
        {
          "execution_count": 23,
          "output_type": "execute_result",
          "data": {
            "text/plain": "180"
          },
          "metadata": {}
        }
      ]
    },
    {
      "cell_type": "code",
      "source": "WD.drop(indu,axis = 0 ,inplace = True)",
      "metadata": {
        "trusted": true
      },
      "execution_count": 24,
      "outputs": []
    },
    {
      "cell_type": "code",
      "source": "WD.shape",
      "metadata": {
        "trusted": true
      },
      "execution_count": 25,
      "outputs": [
        {
          "execution_count": 25,
          "output_type": "execute_result",
          "data": {
            "text/plain": "(1787, 19)"
          },
          "metadata": {}
        }
      ]
    },
    {
      "cell_type": "code",
      "source": "WD['Wind_speed']=WD.Wind_speed.astype(float)",
      "metadata": {
        "trusted": true
      },
      "execution_count": 26,
      "outputs": []
    },
    {
      "cell_type": "raw",
      "source": "WD.dtypes",
      "metadata": {}
    },
    {
      "cell_type": "code",
      "source": "WD.Wind_degree",
      "metadata": {
        "trusted": true
      },
      "execution_count": 27,
      "outputs": [
        {
          "execution_count": 27,
          "output_type": "execute_result",
          "data": {
            "text/plain": "0       160\n1       176\n2       124\n3       214\n4       221\n       ... \n1998    257\n1999    281\n2000    224\n2001     95\n2002    241\nName: Wind_degree, Length: 1787, dtype: int32"
          },
          "metadata": {}
        }
      ]
    },
    {
      "cell_type": "code",
      "source": "for i,degree in WD.Wind_degree.items():\n    if degree>360:\n        WD.Wind_degree[i] -= 360\n",
      "metadata": {
        "trusted": true
      },
      "execution_count": 28,
      "outputs": [
        {
          "name": "stderr",
          "text": "<ipython-input-28-b54975f5779a>:3: SettingWithCopyWarning: \nA value is trying to be set on a copy of a slice from a DataFrame\n\nSee the caveats in the documentation: https://pandas.pydata.org/pandas-docs/stable/user_guide/indexing.html#returning-a-view-versus-a-copy\n  WD.Wind_degree[i] -= 360\n",
          "output_type": "stream"
        }
      ]
    },
    {
      "cell_type": "code",
      "source": "# WD[\"wind-degrees\"] = pd.cut(WD['Wind_degree'], bins=list(range(0, 361, 20)), right=False, labels=False)",
      "metadata": {
        "trusted": true
      },
      "execution_count": 21,
      "outputs": []
    },
    {
      "cell_type": "code",
      "source": "print(WD)",
      "metadata": {
        "trusted": true
      },
      "execution_count": 29,
      "outputs": [
        {
          "name": "stdout",
          "text": "                     Date    CO Ozone    NO   NO2    NOx   NH3   SO2 PM2.5  \\\n0           01-01-18 M on  0.94  95.5   1.5  22.9   24.4  11.4   5.5    58   \n1            02-01-18 Tue  1.02    99   1.5  28.9   30.4  11.9  10.1    65   \n2            03-01-18 Wed  1.08  85.2   4.4  41.9   46.2  13.3  12.9    78   \n3            04-01-18 Thu  1.91  34.2  30.9  81.8  112.8  17.2  33.2   109   \n4            05-01-18 Fri  1.51  57.1  41.4  59.7  101.2  14.1  11.3    90   \n...                   ...   ...   ...   ...   ...    ...   ...   ...   ...   \n1998  2022-12-27 00:00:00  0.59  15.2    46  36.3   82.5  26.9   9.3    43   \n1999  2022-12-28 00:00:00  0.59  14.1  25.9  32.6   58.6  26.4   9.2    32   \n2000  2022-12-29 00:00:00  0.53  16.1  15.2    28   43.3  27.9   9.2    35   \n2001  2022-12-30 00:00:00  0.59  16.2   5.9  24.5   30.4  32.7   8.8   102   \n2002  2022-12-31 00:00:00  0.59  14.8  28.2  36.5   64.8  29.7     9    67   \n\n     PM10 Benzene Toluene Xylene  Temp  RH  Wind_degree  Wind_speed   SR RF  \n0      96     2.6     3.5    0.6    25  65          160         2.2   79  0  \n1     109       3     3.8    0.8  24.7  60          176         2.0  120  0  \n2     151     2.9     6.2    1.7  24.2  62          124         1.4  118  0  \n3     234     3.4     6.1    2.5    23  69          214         0.8  111  0  \n4     175     4.5     7.8    3.3  23.2  67          221         1.3  151  0  \n...   ...     ...     ...    ...   ...  ..          ...         ...  ... ..  \n1998  148       3    12.9    1.6  26.6  81          257         0.0  115  0  \n1999   93     3.3    23.6    0.8  26.8  79          281         0.0  110  0  \n2000   79     1.9    14.7    0.5  26.4  82          224         0.0  109  0  \n2001  157     2.7     7.7    0.4  25.9  80           95         0.1   95  0  \n2002  152       3    10.8      1  25.7  81          241         0.0   98  0  \n\n[1787 rows x 19 columns]\n",
          "output_type": "stream"
        }
      ]
    },
    {
      "cell_type": "code",
      "source": "ranges = {\n    (0, 22.5): 'N',\n    (22.5, 67.5): 'NE',\n    (67.5, 112.5): 'E',\n    (112.5, 157.5): 'SE',\n    (157.5, 202.5): 'S',\n    (202.5, 247.5): 'SW',\n    (247.5, 292.5): 'W',\n    (292.5, 337.5): 'NW',\n    (337.5, 360.1): 'N'\n}\n",
      "metadata": {
        "trusted": true
      },
      "execution_count": 50,
      "outputs": []
    },
    {
      "cell_type": "code",
      "source": "def map_range(deg):\n    for r, label in ranges.items():\n        if deg >= r[0] and deg < r[1]:\n            return label\n",
      "metadata": {
        "trusted": true
      },
      "execution_count": 51,
      "outputs": []
    },
    {
      "cell_type": "code",
      "source": "WD['Wind Degree Range'] = WD['Wind_degree'].apply(map_range)\n",
      "metadata": {
        "trusted": true
      },
      "execution_count": 52,
      "outputs": []
    },
    {
      "cell_type": "code",
      "source": "WD[WD['Date']=='27-02-21']",
      "metadata": {
        "trusted": true
      },
      "execution_count": 53,
      "outputs": [
        {
          "execution_count": 53,
          "output_type": "execute_result",
          "data": {
            "text/plain": "Empty DataFrame\nColumns: [level_0, index, Date, CO, Ozone, NO, NO2, NOx, NH3, SO2, PM2.5, PM10, Benzene, Toluene, Xylene, Temp, RH, Wind_degree, Wind_speed, SR, RF, Wind Degree Range, Year]\nIndex: []\n\n[0 rows x 23 columns]",
            "text/html": "<div>\n<style scoped>\n    .dataframe tbody tr th:only-of-type {\n        vertical-align: middle;\n    }\n\n    .dataframe tbody tr th {\n        vertical-align: top;\n    }\n\n    .dataframe thead th {\n        text-align: right;\n    }\n</style>\n<table border=\"1\" class=\"dataframe\">\n  <thead>\n    <tr style=\"text-align: right;\">\n      <th></th>\n      <th>level_0</th>\n      <th>index</th>\n      <th>Date</th>\n      <th>CO</th>\n      <th>Ozone</th>\n      <th>NO</th>\n      <th>NO2</th>\n      <th>NOx</th>\n      <th>NH3</th>\n      <th>SO2</th>\n      <th>...</th>\n      <th>Toluene</th>\n      <th>Xylene</th>\n      <th>Temp</th>\n      <th>RH</th>\n      <th>Wind_degree</th>\n      <th>Wind_speed</th>\n      <th>SR</th>\n      <th>RF</th>\n      <th>Wind Degree Range</th>\n      <th>Year</th>\n    </tr>\n  </thead>\n  <tbody>\n  </tbody>\n</table>\n<p>0 rows × 23 columns</p>\n</div>"
          },
          "metadata": {}
        }
      ]
    },
    {
      "cell_type": "code",
      "source": "WD.dtypes",
      "metadata": {
        "trusted": true
      },
      "execution_count": 40,
      "outputs": [
        {
          "execution_count": 40,
          "output_type": "execute_result",
          "data": {
            "text/plain": "index                  int64\nDate                  object\nCO                    object\nOzone                 object\nNO                    object\nNO2                   object\nNOx                   object\nNH3                   object\nSO2                   object\nPM2.5                 object\nPM10                  object\nBenzene               object\nToluene               object\nXylene                object\nTemp                  object\nRH                    object\nWind_degree            int32\nWind_speed           float64\nSR                    object\nRF                    object\nWind Degree Range     object\ndtype: object"
          },
          "metadata": {}
        }
      ]
    },
    {
      "cell_type": "code",
      "source": "# WD = WD.sort_values(\"Wind Degree Range\").reset_index()",
      "metadata": {
        "trusted": true
      },
      "execution_count": 55,
      "outputs": []
    },
    {
      "cell_type": "code",
      "source": "print(WD)",
      "metadata": {
        "trusted": true
      },
      "execution_count": 35,
      "outputs": [
        {
          "name": "stdout",
          "text": "      level_0  index                 Date    CO  Ozone   NO   NO2   NOx   NH3  \\\n0        1786   1573  2021-12-03 00:00:00  0.48     39  7.2  26.3  33.5  24.3   \n1        1785   1548  2021-11-11 00:00:00  0.66   19.5  7.1  21.5  28.6  13.6   \n2        1739    327         28-10-18 Sun  0.61  128.3  3.4  22.1  25.5  10.3   \n3        1740    345        12-11-18 M on  0.92  112.3  4.1  32.9    37  13.1   \n4        1742    381         15-12-18 Sat  0.75   87.4  4.1  19.1  23.2  11.9   \n...       ...    ...                  ...   ...    ...  ...   ...   ...   ...   \n1782     1648   1619  2022-01-15 00:00:00  0.37   23.2  3.6  12.7  16.3  12.7   \n1783     1649   1558  2021-11-21 00:00:00  0.52   22.9    4  17.6  21.6    40   \n1784     1650   2001  2022-12-30 00:00:00  0.59   16.2  5.9  24.5  30.4  32.7   \n1785     1652   1565  2021-11-28 00:00:00  0.57   71.4  2.8  17.3  20.1    29   \n1786     1575   1941  2022-11-03 00:00:00  0.71   28.2  5.9  21.8  27.7  18.5   \n\n       SO2  ... Benzene Toluene Xylene  Temp  RH Wind_degree Wind_speed   SR  \\\n0     16.4  ...     2.4     7.3    0.7  23.7  71          22        0.1   27   \n1     16.9  ...     2.9     7.5    1.8  24.7  78          21        0.1   46   \n2      7.3  ...       3     5.2    1.2  27.9  60          13        3.5  135   \n3     12.2  ...     4.9     9.1    2.5  27.4  63          11        2.5  120   \n4     10.3  ...     3.7     4.9      1  26.2  57          22        4.2   78   \n...    ...  ...     ...     ...    ...   ...  ..         ...        ...  ...   \n1782    16  ...     1.9     3.8    0.6  22.6  80          68        0.1  115   \n1783  17.4  ...     1.3     8.4    0.8  27.5  82          79        0.1  118   \n1784   8.8  ...     2.7     7.7    0.4  25.9  80          95        0.1   95   \n1785  16.5  ...       2     4.1    0.4  26.6  68          72        0.1   71   \n1786    25  ...       2     6.8    0.6  28.9  76          82        0.1   81   \n\n       RF Wind Degree Range  \n0       0            0-22.5  \n1     9.5            0-22.5  \n2       0            0-22.5  \n3       0            0-22.5  \n4       0            0-22.5  \n...   ...               ...  \n1782    0        67.5-112.5  \n1783    0        67.5-112.5  \n1784    0        67.5-112.5  \n1785    0        67.5-112.5  \n1786    1        67.5-112.5  \n\n[1787 rows x 22 columns]\n",
          "output_type": "stream"
        }
      ]
    },
    {
      "cell_type": "code",
      "source": "WD['Date']=pd.to_datetime(WD.Date)",
      "metadata": {
        "trusted": true
      },
      "execution_count": 56,
      "outputs": []
    },
    {
      "cell_type": "code",
      "source": "WD['Date'] = WD.Date.dt.date",
      "metadata": {
        "trusted": true
      },
      "execution_count": 58,
      "outputs": []
    },
    {
      "cell_type": "code",
      "source": "WD[\"Year\"] = WD.Date.dt.year",
      "metadata": {
        "trusted": true
      },
      "execution_count": 57,
      "outputs": []
    },
    {
      "cell_type": "code",
      "source": "WD.head()",
      "metadata": {
        "trusted": true
      },
      "execution_count": 59,
      "outputs": [
        {
          "execution_count": 59,
          "output_type": "execute_result",
          "data": {
            "text/plain": "   level_0  index        Date    CO  Ozone   NO   NO2   NOx   NH3   SO2  ...  \\\n0     1786   1573  2021-12-03  0.48     39  7.2  26.3  33.5  24.3  16.4  ...   \n1     1785   1548  2021-11-11  0.66   19.5  7.1  21.5  28.6  13.6  16.9  ...   \n2     1739    327  2018-10-28  0.61  128.3  3.4  22.1  25.5  10.3   7.3  ...   \n3     1740    345  2018-12-11  0.92  112.3  4.1  32.9    37  13.1  12.2  ...   \n4     1742    381  2018-12-15  0.75   87.4  4.1  19.1  23.2  11.9  10.3  ...   \n\n  Toluene Xylene  Temp  RH Wind_degree Wind_speed   SR   RF  \\\n0     7.3    0.7  23.7  71          22        0.1   27    0   \n1     7.5    1.8  24.7  78          21        0.1   46  9.5   \n2     5.2    1.2  27.9  60          13        3.5  135    0   \n3     9.1    2.5  27.4  63          11        2.5  120    0   \n4     4.9      1  26.2  57          22        4.2   78    0   \n\n   Wind Degree Range  Year  \n0                  N  2021  \n1                  N  2021  \n2                  N  2018  \n3                  N  2018  \n4                  N  2018  \n\n[5 rows x 23 columns]",
            "text/html": "<div>\n<style scoped>\n    .dataframe tbody tr th:only-of-type {\n        vertical-align: middle;\n    }\n\n    .dataframe tbody tr th {\n        vertical-align: top;\n    }\n\n    .dataframe thead th {\n        text-align: right;\n    }\n</style>\n<table border=\"1\" class=\"dataframe\">\n  <thead>\n    <tr style=\"text-align: right;\">\n      <th></th>\n      <th>level_0</th>\n      <th>index</th>\n      <th>Date</th>\n      <th>CO</th>\n      <th>Ozone</th>\n      <th>NO</th>\n      <th>NO2</th>\n      <th>NOx</th>\n      <th>NH3</th>\n      <th>SO2</th>\n      <th>...</th>\n      <th>Toluene</th>\n      <th>Xylene</th>\n      <th>Temp</th>\n      <th>RH</th>\n      <th>Wind_degree</th>\n      <th>Wind_speed</th>\n      <th>SR</th>\n      <th>RF</th>\n      <th>Wind Degree Range</th>\n      <th>Year</th>\n    </tr>\n  </thead>\n  <tbody>\n    <tr>\n      <th>0</th>\n      <td>1786</td>\n      <td>1573</td>\n      <td>2021-12-03</td>\n      <td>0.48</td>\n      <td>39</td>\n      <td>7.2</td>\n      <td>26.3</td>\n      <td>33.5</td>\n      <td>24.3</td>\n      <td>16.4</td>\n      <td>...</td>\n      <td>7.3</td>\n      <td>0.7</td>\n      <td>23.7</td>\n      <td>71</td>\n      <td>22</td>\n      <td>0.1</td>\n      <td>27</td>\n      <td>0</td>\n      <td>N</td>\n      <td>2021</td>\n    </tr>\n    <tr>\n      <th>1</th>\n      <td>1785</td>\n      <td>1548</td>\n      <td>2021-11-11</td>\n      <td>0.66</td>\n      <td>19.5</td>\n      <td>7.1</td>\n      <td>21.5</td>\n      <td>28.6</td>\n      <td>13.6</td>\n      <td>16.9</td>\n      <td>...</td>\n      <td>7.5</td>\n      <td>1.8</td>\n      <td>24.7</td>\n      <td>78</td>\n      <td>21</td>\n      <td>0.1</td>\n      <td>46</td>\n      <td>9.5</td>\n      <td>N</td>\n      <td>2021</td>\n    </tr>\n    <tr>\n      <th>2</th>\n      <td>1739</td>\n      <td>327</td>\n      <td>2018-10-28</td>\n      <td>0.61</td>\n      <td>128.3</td>\n      <td>3.4</td>\n      <td>22.1</td>\n      <td>25.5</td>\n      <td>10.3</td>\n      <td>7.3</td>\n      <td>...</td>\n      <td>5.2</td>\n      <td>1.2</td>\n      <td>27.9</td>\n      <td>60</td>\n      <td>13</td>\n      <td>3.5</td>\n      <td>135</td>\n      <td>0</td>\n      <td>N</td>\n      <td>2018</td>\n    </tr>\n    <tr>\n      <th>3</th>\n      <td>1740</td>\n      <td>345</td>\n      <td>2018-12-11</td>\n      <td>0.92</td>\n      <td>112.3</td>\n      <td>4.1</td>\n      <td>32.9</td>\n      <td>37</td>\n      <td>13.1</td>\n      <td>12.2</td>\n      <td>...</td>\n      <td>9.1</td>\n      <td>2.5</td>\n      <td>27.4</td>\n      <td>63</td>\n      <td>11</td>\n      <td>2.5</td>\n      <td>120</td>\n      <td>0</td>\n      <td>N</td>\n      <td>2018</td>\n    </tr>\n    <tr>\n      <th>4</th>\n      <td>1742</td>\n      <td>381</td>\n      <td>2018-12-15</td>\n      <td>0.75</td>\n      <td>87.4</td>\n      <td>4.1</td>\n      <td>19.1</td>\n      <td>23.2</td>\n      <td>11.9</td>\n      <td>10.3</td>\n      <td>...</td>\n      <td>4.9</td>\n      <td>1</td>\n      <td>26.2</td>\n      <td>57</td>\n      <td>22</td>\n      <td>4.2</td>\n      <td>78</td>\n      <td>0</td>\n      <td>N</td>\n      <td>2018</td>\n    </tr>\n  </tbody>\n</table>\n<p>5 rows × 23 columns</p>\n</div>"
          },
          "metadata": {}
        }
      ]
    },
    {
      "cell_type": "code",
      "source": "df = WD.set_index(['Wind Degree Range','Year'])",
      "metadata": {
        "trusted": true
      },
      "execution_count": 61,
      "outputs": []
    },
    {
      "cell_type": "code",
      "source": "# df.drop('Date',axis = 1,inplace=True)",
      "metadata": {
        "trusted": true
      },
      "execution_count": 59,
      "outputs": []
    },
    {
      "cell_type": "code",
      "source": "df",
      "metadata": {
        "trusted": true
      },
      "execution_count": 62,
      "outputs": [
        {
          "execution_count": 62,
          "output_type": "execute_result",
          "data": {
            "text/plain": "                        level_0  index        Date    CO  Ozone   NO   NO2  \\\nWind Degree Range Year                                                       \nN                 2021     1786   1573  2021-12-03  0.48     39  7.2  26.3   \n                  2021     1785   1548  2021-11-11  0.66   19.5  7.1  21.5   \n                  2018     1739    327  2018-10-28  0.61  128.3  3.4  22.1   \n                  2018     1740    345  2018-12-11  0.92  112.3  4.1  32.9   \n                  2018     1742    381  2018-12-15  0.75   87.4  4.1  19.1   \n...                         ...    ...         ...   ...    ...  ...   ...   \nE                 2022     1648   1619  2022-01-15  0.37   23.2  3.6  12.7   \n                  2021     1649   1558  2021-11-21  0.52   22.9    4  17.6   \n                  2022     1650   2001  2022-12-30  0.59   16.2  5.9  24.5   \n                  2021     1652   1565  2021-11-28  0.57   71.4  2.8  17.3   \n                  2022     1575   1941  2022-11-03  0.71   28.2  5.9  21.8   \n\n                         NOx   NH3   SO2  ... PM10 Benzene Toluene Xylene  \\\nWind Degree Range Year                    ...                               \nN                 2021  33.5  24.3  16.4  ...   89     2.4     7.3    0.7   \n                  2021  28.6  13.6  16.9  ...   80     2.9     7.5    1.8   \n                  2018  25.5  10.3   7.3  ...  104       3     5.2    1.2   \n                  2018    37  13.1  12.2  ...  156     4.9     9.1    2.5   \n                  2018  23.2  11.9  10.3  ...  167     3.7     4.9      1   \n...                      ...   ...   ...  ...  ...     ...     ...    ...   \nE                 2022  16.3  12.7    16  ...   61     1.9     3.8    0.6   \n                  2021  21.6    40  17.4  ...   47     1.3     8.4    0.8   \n                  2022  30.4  32.7   8.8  ...  157     2.7     7.7    0.4   \n                  2021  20.1    29  16.5  ...  149       2     4.1    0.4   \n                  2022  27.7  18.5    25  ...   85       2     6.8    0.6   \n\n                        Temp  RH Wind_degree  Wind_speed   SR   RF  \nWind Degree Range Year                                              \nN                 2021  23.7  71          22         0.1   27    0  \n                  2021  24.7  78          21         0.1   46  9.5  \n                  2018  27.9  60          13         3.5  135    0  \n                  2018  27.4  63          11         2.5  120    0  \n                  2018  26.2  57          22         4.2   78    0  \n...                      ...  ..         ...         ...  ...  ...  \nE                 2022  22.6  80          68         0.1  115    0  \n                  2021  27.5  82          79         0.1  118    0  \n                  2022  25.9  80          95         0.1   95    0  \n                  2021  26.6  68          72         0.1   71    0  \n                  2022  28.9  76          82         0.1   81    1  \n\n[1787 rows x 21 columns]",
            "text/html": "<div>\n<style scoped>\n    .dataframe tbody tr th:only-of-type {\n        vertical-align: middle;\n    }\n\n    .dataframe tbody tr th {\n        vertical-align: top;\n    }\n\n    .dataframe thead th {\n        text-align: right;\n    }\n</style>\n<table border=\"1\" class=\"dataframe\">\n  <thead>\n    <tr style=\"text-align: right;\">\n      <th></th>\n      <th></th>\n      <th>level_0</th>\n      <th>index</th>\n      <th>Date</th>\n      <th>CO</th>\n      <th>Ozone</th>\n      <th>NO</th>\n      <th>NO2</th>\n      <th>NOx</th>\n      <th>NH3</th>\n      <th>SO2</th>\n      <th>...</th>\n      <th>PM10</th>\n      <th>Benzene</th>\n      <th>Toluene</th>\n      <th>Xylene</th>\n      <th>Temp</th>\n      <th>RH</th>\n      <th>Wind_degree</th>\n      <th>Wind_speed</th>\n      <th>SR</th>\n      <th>RF</th>\n    </tr>\n    <tr>\n      <th>Wind Degree Range</th>\n      <th>Year</th>\n      <th></th>\n      <th></th>\n      <th></th>\n      <th></th>\n      <th></th>\n      <th></th>\n      <th></th>\n      <th></th>\n      <th></th>\n      <th></th>\n      <th></th>\n      <th></th>\n      <th></th>\n      <th></th>\n      <th></th>\n      <th></th>\n      <th></th>\n      <th></th>\n      <th></th>\n      <th></th>\n      <th></th>\n    </tr>\n  </thead>\n  <tbody>\n    <tr>\n      <th rowspan=\"5\" valign=\"top\">N</th>\n      <th>2021</th>\n      <td>1786</td>\n      <td>1573</td>\n      <td>2021-12-03</td>\n      <td>0.48</td>\n      <td>39</td>\n      <td>7.2</td>\n      <td>26.3</td>\n      <td>33.5</td>\n      <td>24.3</td>\n      <td>16.4</td>\n      <td>...</td>\n      <td>89</td>\n      <td>2.4</td>\n      <td>7.3</td>\n      <td>0.7</td>\n      <td>23.7</td>\n      <td>71</td>\n      <td>22</td>\n      <td>0.1</td>\n      <td>27</td>\n      <td>0</td>\n    </tr>\n    <tr>\n      <th>2021</th>\n      <td>1785</td>\n      <td>1548</td>\n      <td>2021-11-11</td>\n      <td>0.66</td>\n      <td>19.5</td>\n      <td>7.1</td>\n      <td>21.5</td>\n      <td>28.6</td>\n      <td>13.6</td>\n      <td>16.9</td>\n      <td>...</td>\n      <td>80</td>\n      <td>2.9</td>\n      <td>7.5</td>\n      <td>1.8</td>\n      <td>24.7</td>\n      <td>78</td>\n      <td>21</td>\n      <td>0.1</td>\n      <td>46</td>\n      <td>9.5</td>\n    </tr>\n    <tr>\n      <th>2018</th>\n      <td>1739</td>\n      <td>327</td>\n      <td>2018-10-28</td>\n      <td>0.61</td>\n      <td>128.3</td>\n      <td>3.4</td>\n      <td>22.1</td>\n      <td>25.5</td>\n      <td>10.3</td>\n      <td>7.3</td>\n      <td>...</td>\n      <td>104</td>\n      <td>3</td>\n      <td>5.2</td>\n      <td>1.2</td>\n      <td>27.9</td>\n      <td>60</td>\n      <td>13</td>\n      <td>3.5</td>\n      <td>135</td>\n      <td>0</td>\n    </tr>\n    <tr>\n      <th>2018</th>\n      <td>1740</td>\n      <td>345</td>\n      <td>2018-12-11</td>\n      <td>0.92</td>\n      <td>112.3</td>\n      <td>4.1</td>\n      <td>32.9</td>\n      <td>37</td>\n      <td>13.1</td>\n      <td>12.2</td>\n      <td>...</td>\n      <td>156</td>\n      <td>4.9</td>\n      <td>9.1</td>\n      <td>2.5</td>\n      <td>27.4</td>\n      <td>63</td>\n      <td>11</td>\n      <td>2.5</td>\n      <td>120</td>\n      <td>0</td>\n    </tr>\n    <tr>\n      <th>2018</th>\n      <td>1742</td>\n      <td>381</td>\n      <td>2018-12-15</td>\n      <td>0.75</td>\n      <td>87.4</td>\n      <td>4.1</td>\n      <td>19.1</td>\n      <td>23.2</td>\n      <td>11.9</td>\n      <td>10.3</td>\n      <td>...</td>\n      <td>167</td>\n      <td>3.7</td>\n      <td>4.9</td>\n      <td>1</td>\n      <td>26.2</td>\n      <td>57</td>\n      <td>22</td>\n      <td>4.2</td>\n      <td>78</td>\n      <td>0</td>\n    </tr>\n    <tr>\n      <th>...</th>\n      <th>...</th>\n      <td>...</td>\n      <td>...</td>\n      <td>...</td>\n      <td>...</td>\n      <td>...</td>\n      <td>...</td>\n      <td>...</td>\n      <td>...</td>\n      <td>...</td>\n      <td>...</td>\n      <td>...</td>\n      <td>...</td>\n      <td>...</td>\n      <td>...</td>\n      <td>...</td>\n      <td>...</td>\n      <td>...</td>\n      <td>...</td>\n      <td>...</td>\n      <td>...</td>\n      <td>...</td>\n    </tr>\n    <tr>\n      <th rowspan=\"5\" valign=\"top\">E</th>\n      <th>2022</th>\n      <td>1648</td>\n      <td>1619</td>\n      <td>2022-01-15</td>\n      <td>0.37</td>\n      <td>23.2</td>\n      <td>3.6</td>\n      <td>12.7</td>\n      <td>16.3</td>\n      <td>12.7</td>\n      <td>16</td>\n      <td>...</td>\n      <td>61</td>\n      <td>1.9</td>\n      <td>3.8</td>\n      <td>0.6</td>\n      <td>22.6</td>\n      <td>80</td>\n      <td>68</td>\n      <td>0.1</td>\n      <td>115</td>\n      <td>0</td>\n    </tr>\n    <tr>\n      <th>2021</th>\n      <td>1649</td>\n      <td>1558</td>\n      <td>2021-11-21</td>\n      <td>0.52</td>\n      <td>22.9</td>\n      <td>4</td>\n      <td>17.6</td>\n      <td>21.6</td>\n      <td>40</td>\n      <td>17.4</td>\n      <td>...</td>\n      <td>47</td>\n      <td>1.3</td>\n      <td>8.4</td>\n      <td>0.8</td>\n      <td>27.5</td>\n      <td>82</td>\n      <td>79</td>\n      <td>0.1</td>\n      <td>118</td>\n      <td>0</td>\n    </tr>\n    <tr>\n      <th>2022</th>\n      <td>1650</td>\n      <td>2001</td>\n      <td>2022-12-30</td>\n      <td>0.59</td>\n      <td>16.2</td>\n      <td>5.9</td>\n      <td>24.5</td>\n      <td>30.4</td>\n      <td>32.7</td>\n      <td>8.8</td>\n      <td>...</td>\n      <td>157</td>\n      <td>2.7</td>\n      <td>7.7</td>\n      <td>0.4</td>\n      <td>25.9</td>\n      <td>80</td>\n      <td>95</td>\n      <td>0.1</td>\n      <td>95</td>\n      <td>0</td>\n    </tr>\n    <tr>\n      <th>2021</th>\n      <td>1652</td>\n      <td>1565</td>\n      <td>2021-11-28</td>\n      <td>0.57</td>\n      <td>71.4</td>\n      <td>2.8</td>\n      <td>17.3</td>\n      <td>20.1</td>\n      <td>29</td>\n      <td>16.5</td>\n      <td>...</td>\n      <td>149</td>\n      <td>2</td>\n      <td>4.1</td>\n      <td>0.4</td>\n      <td>26.6</td>\n      <td>68</td>\n      <td>72</td>\n      <td>0.1</td>\n      <td>71</td>\n      <td>0</td>\n    </tr>\n    <tr>\n      <th>2022</th>\n      <td>1575</td>\n      <td>1941</td>\n      <td>2022-11-03</td>\n      <td>0.71</td>\n      <td>28.2</td>\n      <td>5.9</td>\n      <td>21.8</td>\n      <td>27.7</td>\n      <td>18.5</td>\n      <td>25</td>\n      <td>...</td>\n      <td>85</td>\n      <td>2</td>\n      <td>6.8</td>\n      <td>0.6</td>\n      <td>28.9</td>\n      <td>76</td>\n      <td>82</td>\n      <td>0.1</td>\n      <td>81</td>\n      <td>1</td>\n    </tr>\n  </tbody>\n</table>\n<p>1787 rows × 21 columns</p>\n</div>"
          },
          "metadata": {}
        }
      ]
    },
    {
      "cell_type": "code",
      "source": "df.to_excel(\"Directions.xlsx\")",
      "metadata": {
        "trusted": true
      },
      "execution_count": 63,
      "outputs": []
    },
    {
      "cell_type": "code",
      "source": "# pd.set_option('display.max_rows',None)",
      "metadata": {
        "trusted": true
      },
      "execution_count": 33,
      "outputs": []
    },
    {
      "cell_type": "code",
      "source": "# ser",
      "metadata": {
        "trusted": true
      },
      "execution_count": 34,
      "outputs": []
    },
    {
      "cell_type": "code",
      "source": "# speed_ranges = {\n#     (-1, 0): '-1-0',\n#     (0, 1): '0-1',\n#     (1, 2): '1-2',\n#     (2, 3): '2-3',\n#     (3, 4): '3-4',\n#     (4, 5): '4-5',\n#     # Add more ranges as needed\n# }\n",
      "metadata": {
        "trusted": true
      },
      "execution_count": 35,
      "outputs": []
    },
    {
      "cell_type": "code",
      "source": "# def map_speed_range(speed):\n#     for r, label in speed_ranges.items():\n#         if speed >= r[0] and speed < r[1]:\n#             return label\n",
      "metadata": {
        "trusted": true
      },
      "execution_count": 36,
      "outputs": []
    },
    {
      "cell_type": "code",
      "source": "# import numpy as np",
      "metadata": {
        "trusted": true
      },
      "execution_count": 37,
      "outputs": []
    },
    {
      "cell_type": "code",
      "source": "# for label in speed_ranges.values():\n#     WD[label] = np.nan",
      "metadata": {
        "trusted": true
      },
      "execution_count": 38,
      "outputs": []
    },
    {
      "cell_type": "code",
      "source": "# for index, row in WD.iterrows():\n#     wind_speed = row['Wind_speed']\n#     wind_degree_range = row['Wind Degree Range']\n#     speed_label = map_speed_range(wind_speed)\n#     if not pd.isna(speed_label):\n#         WD.loc[index, speed_label] = wind_speed\n",
      "metadata": {
        "trusted": true
      },
      "execution_count": 39,
      "outputs": []
    },
    {
      "cell_type": "code",
      "source": "# pd.reset_option('display.max_rows')",
      "metadata": {
        "trusted": true
      },
      "execution_count": 40,
      "outputs": []
    },
    {
      "cell_type": "code",
      "source": "# pd.set_option('display.max_column',100)",
      "metadata": {
        "trusted": true
      },
      "execution_count": 41,
      "outputs": []
    },
    {
      "cell_type": "code",
      "source": "# print(WD/",
      "metadata": {
        "trusted": true
      },
      "execution_count": 42,
      "outputs": []
    },
    {
      "cell_type": "code",
      "source": "# WD['Date'] = WD.Date.dt.date",
      "metadata": {
        "trusted": true
      },
      "execution_count": 43,
      "outputs": []
    },
    {
      "cell_type": "code",
      "source": "# print(WD)",
      "metadata": {
        "trusted": true
      },
      "execution_count": 44,
      "outputs": []
    },
    {
      "cell_type": "code",
      "source": "# %pip install openpyxl",
      "metadata": {
        "trusted": true
      },
      "execution_count": 45,
      "outputs": []
    },
    {
      "cell_type": "code",
      "source": "# WD.to_excel(\"WindData.xlsx\",index = False)",
      "metadata": {
        "trusted": true
      },
      "execution_count": 46,
      "outputs": []
    }
  ]
}