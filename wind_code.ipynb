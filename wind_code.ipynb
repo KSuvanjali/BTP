{
  "metadata": {
    "language_info": {
      "codemirror_mode": {
        "name": "python",
        "version": 3
      },
      "file_extension": ".py",
      "mimetype": "text/x-python",
      "name": "python",
      "nbconvert_exporter": "python",
      "pygments_lexer": "ipython3",
      "version": "3.8"
    },
    "kernelspec": {
      "name": "python",
      "display_name": "Python (Pyodide)",
      "language": "python"
    }
  },
  "nbformat_minor": 4,
  "nbformat": 4,
  "cells": [
    {
      "cell_type": "code",
      "source": "import pandas as pd",
      "metadata": {
        "trusted": true
      },
      "execution_count": 1,
      "outputs": []
    },
    {
      "cell_type": "code",
      "source": "WD = pd.read_table(\"New_Data.txt\",header=0,names=['Date','Wind_degree','Wind_speed'])",
      "metadata": {
        "trusted": true
      },
      "execution_count": 2,
      "outputs": []
    },
    {
      "cell_type": "code",
      "source": "print(WD)",
      "metadata": {
        "trusted": true
      },
      "execution_count": 3,
      "outputs": [
        {
          "name": "stdout",
          "text": "          Date Wind_degree Wind_speed\n0     1/1/2018         160        2.2\n1     2/1/2018         176        2.0\n2     3/1/2018         124        1.4\n3     4/1/2018         214        0.8\n4     5/1/2018         221        1.3\n...        ...         ...        ...\n2001  30-12-22          95        0.1\n2002  31-12-22         241        0.0\n2003   Average         125        0.0\n2004   Minimum          46        0.0\n2005   Maximum         281        0.1\n\n[2006 rows x 3 columns]\n",
          "output_type": "stream"
        }
      ]
    },
    {
      "cell_type": "code",
      "source": "WD.shape",
      "metadata": {
        "trusted": true
      },
      "execution_count": 4,
      "outputs": [
        {
          "execution_count": 4,
          "output_type": "execute_result",
          "data": {
            "text/plain": "(2006, 3)"
          },
          "metadata": {}
        }
      ]
    },
    {
      "cell_type": "code",
      "source": "WD.dtypes",
      "metadata": {
        "trusted": true
      },
      "execution_count": 5,
      "outputs": [
        {
          "execution_count": 5,
          "output_type": "execute_result",
          "data": {
            "text/plain": "Date           object\nWind_degree    object\nWind_speed     object\ndtype: object"
          },
          "metadata": {}
        }
      ]
    },
    {
      "cell_type": "code",
      "source": "WD.Wind_degree[1273]",
      "metadata": {
        "trusted": true
      },
      "execution_count": 6,
      "outputs": [
        {
          "execution_count": 6,
          "output_type": "execute_result",
          "data": {
            "text/plain": "'-'"
          },
          "metadata": {}
        }
      ]
    },
    {
      "cell_type": "code",
      "source": "index = []\nfor i, wind_degree in WD.Wind_degree.items():\n    if wind_degree in ['-','Maint.*']:\n        # print(wind_degree)  # Print the value for debugging\n        index.append(i)\n",
      "metadata": {
        "trusted": true
      },
      "execution_count": 7,
      "outputs": []
    },
    {
      "cell_type": "code",
      "source": "len(index)",
      "metadata": {
        "trusted": true
      },
      "execution_count": 8,
      "outputs": [
        {
          "execution_count": 8,
          "output_type": "execute_result",
          "data": {
            "text/plain": "39"
          },
          "metadata": {}
        }
      ]
    },
    {
      "cell_type": "code",
      "source": "WD.drop(index,axis = 0,inplace=True)",
      "metadata": {
        "trusted": true
      },
      "execution_count": 9,
      "outputs": []
    },
    {
      "cell_type": "code",
      "source": "WD.shape",
      "metadata": {
        "trusted": true
      },
      "execution_count": 10,
      "outputs": [
        {
          "execution_count": 10,
          "output_type": "execute_result",
          "data": {
            "text/plain": "(1967, 3)"
          },
          "metadata": {}
        }
      ]
    },
    {
      "cell_type": "code",
      "source": " WD['Wind_degree']=WD.Wind_degree.astype(int)",
      "metadata": {
        "trusted": true
      },
      "execution_count": 11,
      "outputs": []
    },
    {
      "cell_type": "code",
      "source": "WD.dtypes",
      "metadata": {
        "trusted": true
      },
      "execution_count": 12,
      "outputs": [
        {
          "execution_count": 12,
          "output_type": "execute_result",
          "data": {
            "text/plain": "Date           object\nWind_degree     int32\nWind_speed     object\ndtype: object"
          },
          "metadata": {}
        }
      ]
    },
    {
      "cell_type": "code",
      "source": "WD.head()",
      "metadata": {
        "trusted": true
      },
      "execution_count": 13,
      "outputs": [
        {
          "execution_count": 13,
          "output_type": "execute_result",
          "data": {
            "text/plain": "       Date  Wind_degree Wind_speed\n0  1/1/2018          160        2.2\n1  2/1/2018          176        2.0\n2  3/1/2018          124        1.4\n3  4/1/2018          214        0.8\n4  5/1/2018          221        1.3",
            "text/html": "<div>\n<style scoped>\n    .dataframe tbody tr th:only-of-type {\n        vertical-align: middle;\n    }\n\n    .dataframe tbody tr th {\n        vertical-align: top;\n    }\n\n    .dataframe thead th {\n        text-align: right;\n    }\n</style>\n<table border=\"1\" class=\"dataframe\">\n  <thead>\n    <tr style=\"text-align: right;\">\n      <th></th>\n      <th>Date</th>\n      <th>Wind_degree</th>\n      <th>Wind_speed</th>\n    </tr>\n  </thead>\n  <tbody>\n    <tr>\n      <th>0</th>\n      <td>1/1/2018</td>\n      <td>160</td>\n      <td>2.2</td>\n    </tr>\n    <tr>\n      <th>1</th>\n      <td>2/1/2018</td>\n      <td>176</td>\n      <td>2.0</td>\n    </tr>\n    <tr>\n      <th>2</th>\n      <td>3/1/2018</td>\n      <td>124</td>\n      <td>1.4</td>\n    </tr>\n    <tr>\n      <th>3</th>\n      <td>4/1/2018</td>\n      <td>214</td>\n      <td>0.8</td>\n    </tr>\n    <tr>\n      <th>4</th>\n      <td>5/1/2018</td>\n      <td>221</td>\n      <td>1.3</td>\n    </tr>\n  </tbody>\n</table>\n</div>"
          },
          "metadata": {}
        }
      ]
    },
    {
      "cell_type": "code",
      "source": "indu = []\nfor i,Date in WD.Date.items():\n    if Date in ['Minimum','Maximum','Average']:\n        indu.append(i)",
      "metadata": {
        "trusted": true
      },
      "execution_count": 14,
      "outputs": []
    },
    {
      "cell_type": "code",
      "source": "len(indu)",
      "metadata": {
        "trusted": true
      },
      "execution_count": 15,
      "outputs": [
        {
          "execution_count": 15,
          "output_type": "execute_result",
          "data": {
            "text/plain": "180"
          },
          "metadata": {}
        }
      ]
    },
    {
      "cell_type": "code",
      "source": "WD.drop(indu,axis = 0 ,inplace = True)",
      "metadata": {
        "trusted": true
      },
      "execution_count": 16,
      "outputs": []
    },
    {
      "cell_type": "code",
      "source": "WD.shape",
      "metadata": {
        "trusted": true
      },
      "execution_count": 17,
      "outputs": [
        {
          "execution_count": 17,
          "output_type": "execute_result",
          "data": {
            "text/plain": "(1787, 3)"
          },
          "metadata": {}
        }
      ]
    },
    {
      "cell_type": "code",
      "source": "WD['Wind_speed']=WD.Wind_speed.astype(float)",
      "metadata": {
        "trusted": true
      },
      "execution_count": 18,
      "outputs": []
    },
    {
      "cell_type": "raw",
      "source": "WD.dtypes",
      "metadata": {}
    },
    {
      "cell_type": "code",
      "source": "WD.Wind_degree",
      "metadata": {
        "trusted": true
      },
      "execution_count": 19,
      "outputs": [
        {
          "execution_count": 19,
          "output_type": "execute_result",
          "data": {
            "text/plain": "0       160\n1       176\n2       124\n3       214\n4       221\n       ... \n1998    257\n1999    281\n2000    224\n2001     95\n2002    241\nName: Wind_degree, Length: 1787, dtype: int32"
          },
          "metadata": {}
        }
      ]
    },
    {
      "cell_type": "code",
      "source": "for i,degree in WD.Wind_degree.items():\n    if degree>360:\n        WD.Wind_degree[i] -= 360\n",
      "metadata": {
        "trusted": true
      },
      "execution_count": 20,
      "outputs": [
        {
          "name": "stderr",
          "text": "<ipython-input-20-b54975f5779a>:3: SettingWithCopyWarning: \nA value is trying to be set on a copy of a slice from a DataFrame\n\nSee the caveats in the documentation: https://pandas.pydata.org/pandas-docs/stable/user_guide/indexing.html#returning-a-view-versus-a-copy\n  WD.Wind_degree[i] -= 360\n",
          "output_type": "stream"
        }
      ]
    },
    {
      "cell_type": "code",
      "source": "# WD[\"wind-degrees\"] = pd.cut(WD['Wind_degree'], bins=list(range(0, 361, 20)), right=False, labels=False)",
      "metadata": {
        "trusted": true
      },
      "execution_count": 21,
      "outputs": []
    },
    {
      "cell_type": "code",
      "source": "print(WD)",
      "metadata": {
        "trusted": true
      },
      "execution_count": 22,
      "outputs": [
        {
          "name": "stdout",
          "text": "          Date  Wind_degree  Wind_speed\n0     1/1/2018          160         2.2\n1     2/1/2018          176         2.0\n2     3/1/2018          124         1.4\n3     4/1/2018          214         0.8\n4     5/1/2018          221         1.3\n...        ...          ...         ...\n1998  27-12-22          257         0.0\n1999  28-12-22          281         0.0\n2000  29-12-22          224         0.0\n2001  30-12-22           95         0.1\n2002  31-12-22          241         0.0\n\n[1787 rows x 3 columns]\n",
          "output_type": "stream"
        }
      ]
    },
    {
      "cell_type": "code",
      "source": "ranges = {\n    (0, 22.5): '0-22.5',\n    (22.5, 67.5): '22.5-67.5',\n    (67.5, 112.5): '67.5-112.5',\n    (112.5, 157.5): '112.5-157.5',\n    (157.5, 202.5): '157.5-202.5',\n    (202.5, 247.5): '202.5-247.5',\n    (247.5, 292.5): '247.5-292.5',\n    (292.5, 337.5): '292.5-337.5',\n    (337.5, 360.1): '337.5-0'\n}\n",
      "metadata": {
        "trusted": true
      },
      "execution_count": 23,
      "outputs": []
    },
    {
      "cell_type": "code",
      "source": "def map_range(deg):\n    for r, label in ranges.items():\n        if deg >= r[0] and deg < r[1]:\n            return label\n",
      "metadata": {
        "trusted": true
      },
      "execution_count": 24,
      "outputs": []
    },
    {
      "cell_type": "code",
      "source": "WD['Wind Degree Range'] = WD['Wind_degree'].apply(map_range)\n",
      "metadata": {
        "trusted": true
      },
      "execution_count": 25,
      "outputs": []
    },
    {
      "cell_type": "code",
      "source": "WD[WD['Date']=='27-02-21']",
      "metadata": {
        "trusted": true
      },
      "execution_count": 26,
      "outputs": [
        {
          "execution_count": 26,
          "output_type": "execute_result",
          "data": {
            "text/plain": "          Date  Wind_degree  Wind_speed Wind Degree Range\n1264  27-02-21          337        -0.1       292.5-337.5",
            "text/html": "<div>\n<style scoped>\n    .dataframe tbody tr th:only-of-type {\n        vertical-align: middle;\n    }\n\n    .dataframe tbody tr th {\n        vertical-align: top;\n    }\n\n    .dataframe thead th {\n        text-align: right;\n    }\n</style>\n<table border=\"1\" class=\"dataframe\">\n  <thead>\n    <tr style=\"text-align: right;\">\n      <th></th>\n      <th>Date</th>\n      <th>Wind_degree</th>\n      <th>Wind_speed</th>\n      <th>Wind Degree Range</th>\n    </tr>\n  </thead>\n  <tbody>\n    <tr>\n      <th>1264</th>\n      <td>27-02-21</td>\n      <td>337</td>\n      <td>-0.1</td>\n      <td>292.5-337.5</td>\n    </tr>\n  </tbody>\n</table>\n</div>"
          },
          "metadata": {}
        }
      ]
    },
    {
      "cell_type": "code",
      "source": "WD.dtypes",
      "metadata": {
        "trusted": true
      },
      "execution_count": 27,
      "outputs": [
        {
          "execution_count": 27,
          "output_type": "execute_result",
          "data": {
            "text/plain": "Date                  object\nWind_degree            int32\nWind_speed           float64\nWind Degree Range     object\ndtype: object"
          },
          "metadata": {}
        }
      ]
    },
    {
      "cell_type": "code",
      "source": "WD = WD.sort_values(\"Wind Degree Range\").reset_index()",
      "metadata": {
        "trusted": true
      },
      "execution_count": 28,
      "outputs": []
    },
    {
      "cell_type": "code",
      "source": "print(WD)",
      "metadata": {
        "trusted": true
      },
      "execution_count": 29,
      "outputs": [
        {
          "name": "stdout",
          "text": "      index         Date  Wind_degree  Wind_speed Wind Degree Range\n0       428  28-01-2019             9         2.2            0-22.5\n1      1212     09-01-21           22         0.0            0-22.5\n2      1548     11-11-21           21         0.1            0-22.5\n3       719  19-10-2019             4         1.7            0-22.5\n4       722  22-10-2019            17         1.8            0-22.5\n...     ...          ...          ...         ...               ...\n1782    378   12/12/2018           69         2.4        67.5-112.5\n1783    392  26-12-2018           104         1.3        67.5-112.5\n1784    394  28-12-2018            91         2.2        67.5-112.5\n1785    350  17-11-2018           101         1.7        67.5-112.5\n1786   1576     06-12-21           77         0.1        67.5-112.5\n\n[1787 rows x 5 columns]\n",
          "output_type": "stream"
        }
      ]
    },
    {
      "cell_type": "code",
      "source": "WD['Date']=pd.to_datetime(WD.Date).dt.date",
      "metadata": {
        "trusted": true
      },
      "execution_count": 30,
      "outputs": []
    },
    {
      "cell_type": "code",
      "source": "WD.head()",
      "metadata": {
        "trusted": true
      },
      "execution_count": 31,
      "outputs": [
        {
          "execution_count": 31,
          "output_type": "execute_result",
          "data": {
            "text/plain": "   index        Date  Wind_degree  Wind_speed Wind Degree Range\n0    428  2019-01-28            9         2.2            0-22.5\n1   1212  2021-09-01           22         0.0            0-22.5\n2   1548  2021-11-11           21         0.1            0-22.5\n3    719  2019-10-19            4         1.7            0-22.5\n4    722  2019-10-22           17         1.8            0-22.5",
            "text/html": "<div>\n<style scoped>\n    .dataframe tbody tr th:only-of-type {\n        vertical-align: middle;\n    }\n\n    .dataframe tbody tr th {\n        vertical-align: top;\n    }\n\n    .dataframe thead th {\n        text-align: right;\n    }\n</style>\n<table border=\"1\" class=\"dataframe\">\n  <thead>\n    <tr style=\"text-align: right;\">\n      <th></th>\n      <th>index</th>\n      <th>Date</th>\n      <th>Wind_degree</th>\n      <th>Wind_speed</th>\n      <th>Wind Degree Range</th>\n    </tr>\n  </thead>\n  <tbody>\n    <tr>\n      <th>0</th>\n      <td>428</td>\n      <td>2019-01-28</td>\n      <td>9</td>\n      <td>2.2</td>\n      <td>0-22.5</td>\n    </tr>\n    <tr>\n      <th>1</th>\n      <td>1212</td>\n      <td>2021-09-01</td>\n      <td>22</td>\n      <td>0.0</td>\n      <td>0-22.5</td>\n    </tr>\n    <tr>\n      <th>2</th>\n      <td>1548</td>\n      <td>2021-11-11</td>\n      <td>21</td>\n      <td>0.1</td>\n      <td>0-22.5</td>\n    </tr>\n    <tr>\n      <th>3</th>\n      <td>719</td>\n      <td>2019-10-19</td>\n      <td>4</td>\n      <td>1.7</td>\n      <td>0-22.5</td>\n    </tr>\n    <tr>\n      <th>4</th>\n      <td>722</td>\n      <td>2019-10-22</td>\n      <td>17</td>\n      <td>1.8</td>\n      <td>0-22.5</td>\n    </tr>\n  </tbody>\n</table>\n</div>"
          },
          "metadata": {}
        }
      ]
    },
    {
      "cell_type": "code",
      "source": "df = WD.set_index(['Wind Degree Range','Wind_speed'])",
      "metadata": {
        "trusted": true
      },
      "execution_count": 49,
      "outputs": []
    },
    {
      "cell_type": "code",
      "source": "# df.drop('Date',axis = 1,inplace=True)",
      "metadata": {
        "trusted": true
      },
      "execution_count": 59,
      "outputs": []
    },
    {
      "cell_type": "code",
      "source": "df",
      "metadata": {
        "trusted": true
      },
      "execution_count": 60,
      "outputs": [
        {
          "execution_count": 60,
          "output_type": "execute_result",
          "data": {
            "text/plain": "                              Wind_degree\nWind Degree Range Wind_speed             \n0-22.5            2.2                   9\n                  0.0                  22\n                  0.1                  21\n                  1.7                   4\n                  1.8                  17\n...                                   ...\n67.5-112.5        2.4                  69\n                  1.3                 104\n                  2.2                  91\n                  1.7                 101\n                  0.1                  77\n\n[1787 rows x 1 columns]",
            "text/html": "<div>\n<style scoped>\n    .dataframe tbody tr th:only-of-type {\n        vertical-align: middle;\n    }\n\n    .dataframe tbody tr th {\n        vertical-align: top;\n    }\n\n    .dataframe thead th {\n        text-align: right;\n    }\n</style>\n<table border=\"1\" class=\"dataframe\">\n  <thead>\n    <tr style=\"text-align: right;\">\n      <th></th>\n      <th></th>\n      <th>Wind_degree</th>\n    </tr>\n    <tr>\n      <th>Wind Degree Range</th>\n      <th>Wind_speed</th>\n      <th></th>\n    </tr>\n  </thead>\n  <tbody>\n    <tr>\n      <th rowspan=\"5\" valign=\"top\">0-22.5</th>\n      <th>2.2</th>\n      <td>9</td>\n    </tr>\n    <tr>\n      <th>0.0</th>\n      <td>22</td>\n    </tr>\n    <tr>\n      <th>0.1</th>\n      <td>21</td>\n    </tr>\n    <tr>\n      <th>1.7</th>\n      <td>4</td>\n    </tr>\n    <tr>\n      <th>1.8</th>\n      <td>17</td>\n    </tr>\n    <tr>\n      <th>...</th>\n      <th>...</th>\n      <td>...</td>\n    </tr>\n    <tr>\n      <th rowspan=\"5\" valign=\"top\">67.5-112.5</th>\n      <th>2.4</th>\n      <td>69</td>\n    </tr>\n    <tr>\n      <th>1.3</th>\n      <td>104</td>\n    </tr>\n    <tr>\n      <th>2.2</th>\n      <td>91</td>\n    </tr>\n    <tr>\n      <th>1.7</th>\n      <td>101</td>\n    </tr>\n    <tr>\n      <th>0.1</th>\n      <td>77</td>\n    </tr>\n  </tbody>\n</table>\n<p>1787 rows × 1 columns</p>\n</div>"
          },
          "metadata": {}
        }
      ]
    },
    {
      "cell_type": "code",
      "source": "# pd.set_option('display.max_rows',None)",
      "metadata": {
        "trusted": true
      },
      "execution_count": 33,
      "outputs": []
    },
    {
      "cell_type": "code",
      "source": "# ser",
      "metadata": {
        "trusted": true
      },
      "execution_count": 34,
      "outputs": []
    },
    {
      "cell_type": "code",
      "source": "# speed_ranges = {\n#     (-1, 0): '-1-0',\n#     (0, 1): '0-1',\n#     (1, 2): '1-2',\n#     (2, 3): '2-3',\n#     (3, 4): '3-4',\n#     (4, 5): '4-5',\n#     # Add more ranges as needed\n# }\n",
      "metadata": {
        "trusted": true
      },
      "execution_count": 35,
      "outputs": []
    },
    {
      "cell_type": "code",
      "source": "# def map_speed_range(speed):\n#     for r, label in speed_ranges.items():\n#         if speed >= r[0] and speed < r[1]:\n#             return label\n",
      "metadata": {
        "trusted": true
      },
      "execution_count": 36,
      "outputs": []
    },
    {
      "cell_type": "code",
      "source": "# import numpy as np",
      "metadata": {
        "trusted": true
      },
      "execution_count": 37,
      "outputs": []
    },
    {
      "cell_type": "code",
      "source": "# for label in speed_ranges.values():\n#     WD[label] = np.nan",
      "metadata": {
        "trusted": true
      },
      "execution_count": 38,
      "outputs": []
    },
    {
      "cell_type": "code",
      "source": "# for index, row in WD.iterrows():\n#     wind_speed = row['Wind_speed']\n#     wind_degree_range = row['Wind Degree Range']\n#     speed_label = map_speed_range(wind_speed)\n#     if not pd.isna(speed_label):\n#         WD.loc[index, speed_label] = wind_speed\n",
      "metadata": {
        "trusted": true
      },
      "execution_count": 39,
      "outputs": []
    },
    {
      "cell_type": "code",
      "source": "# pd.reset_option('display.max_rows')",
      "metadata": {
        "trusted": true
      },
      "execution_count": 40,
      "outputs": []
    },
    {
      "cell_type": "code",
      "source": "# pd.set_option('display.max_column',100)",
      "metadata": {
        "trusted": true
      },
      "execution_count": 41,
      "outputs": []
    },
    {
      "cell_type": "code",
      "source": "# print(WD/",
      "metadata": {
        "trusted": true
      },
      "execution_count": 42,
      "outputs": []
    },
    {
      "cell_type": "code",
      "source": "# WD['Date'] = WD.Date.dt.date",
      "metadata": {
        "trusted": true
      },
      "execution_count": 43,
      "outputs": []
    },
    {
      "cell_type": "code",
      "source": "# print(WD)",
      "metadata": {
        "trusted": true
      },
      "execution_count": 44,
      "outputs": []
    },
    {
      "cell_type": "code",
      "source": "# %pip install openpyxl",
      "metadata": {
        "trusted": true
      },
      "execution_count": 45,
      "outputs": []
    },
    {
      "cell_type": "code",
      "source": "# WD.to_excel(\"WindData.xlsx\",index = False)",
      "metadata": {
        "trusted": true
      },
      "execution_count": 46,
      "outputs": []
    }
  ]
}