{
  "metadata": {
    "language_info": {
      "codemirror_mode": {
        "name": "python",
        "version": 3
      },
      "file_extension": ".py",
      "mimetype": "text/x-python",
      "name": "python",
      "nbconvert_exporter": "python",
      "pygments_lexer": "ipython3",
      "version": "3.8"
    },
    "kernelspec": {
      "name": "python",
      "display_name": "Python (Pyodide)",
      "language": "python"
    }
  },
  "nbformat_minor": 4,
  "nbformat": 4,
  "cells": [
    {
      "cell_type": "code",
      "source": "import pandas as pd",
      "metadata": {
        "trusted": true
      },
      "execution_count": 25,
      "outputs": []
    },
    {
      "cell_type": "code",
      "source": "%pip install openpyxl",
      "metadata": {
        "trusted": true
      },
      "execution_count": 26,
      "outputs": []
    },
    {
      "cell_type": "code",
      "source": "use_cols = ['Date','CO','Ozone','NO','NO2','NOx','NH3','SO2','PM2.5','PM10','Benzene','Toluene','Xylene','Temp','RH','WD','WS','SR','RF']",
      "metadata": {
        "trusted": true
      },
      "execution_count": 27,
      "outputs": []
    },
    {
      "cell_type": "code",
      "source": "df = pd.read_excel(\"5 years_1.xlsx\")",
      "metadata": {
        "trusted": true
      },
      "execution_count": 28,
      "outputs": []
    },
    {
      "cell_type": "code",
      "source": "df.head()",
      "metadata": {
        "trusted": true
      },
      "execution_count": 29,
      "outputs": [
        {
          "execution_count": 29,
          "output_type": "execute_result",
          "data": {
            "text/plain": "            days CO\\n(mg/m³) Ozone (µg/m³) NO\\n(µg/m³) NO2\\n(µg/m³)  \\\n0  01-01-18 M on        0.94          95.5         1.5         22.9   \n1   02-01-18 Tue        1.02            99         1.5         28.9   \n2   03-01-18 Wed        1.08          85.2         4.4         41.9   \n3   04-01-18 Thu        1.91          34.2        30.9         81.8   \n4   05-01-18 Fri        1.51          57.1        41.4         59.7   \n\n  NOx (µg/m³) NH3\\n(µg/m³) SO2\\n(µg/m³) PM 2.5\\n(µg/m³) PM 10\\n(µg/m³)  \\\n0        24.4         11.4          5.5              58             96   \n1        30.4         11.9         10.1              65            109   \n2        46.2         13.3         12.9              78            151   \n3       112.8         17.2         33.2             109            234   \n4       101.2         14.1         11.3              90            175   \n\n  Benzene (µg/m³) Toluene (µg/m³) Xylene (µg/m³) AT (oC) RH (%) WD(degree)  \\\n0             2.6             3.5            0.6      25     65        160   \n1               3             3.8            0.8    24.7     60        176   \n2             2.9             6.2            1.7    24.2     62        124   \n3             3.4             6.1            2.5      23     69        214   \n4             4.5             7.8            3.3    23.2     67        221   \n\n  WS\\n(m/s) SR\\n(W/m²) RF\\n(mm)  \n0       2.2         79        0  \n1         2        120        0  \n2       1.4        118        0  \n3       0.8        111        0  \n4       1.3        151        0  ",
            "text/html": "<div>\n<style scoped>\n    .dataframe tbody tr th:only-of-type {\n        vertical-align: middle;\n    }\n\n    .dataframe tbody tr th {\n        vertical-align: top;\n    }\n\n    .dataframe thead th {\n        text-align: right;\n    }\n</style>\n<table border=\"1\" class=\"dataframe\">\n  <thead>\n    <tr style=\"text-align: right;\">\n      <th></th>\n      <th>days</th>\n      <th>CO\\n(mg/m³)</th>\n      <th>Ozone (µg/m³)</th>\n      <th>NO\\n(µg/m³)</th>\n      <th>NO2\\n(µg/m³)</th>\n      <th>NOx (µg/m³)</th>\n      <th>NH3\\n(µg/m³)</th>\n      <th>SO2\\n(µg/m³)</th>\n      <th>PM 2.5\\n(µg/m³)</th>\n      <th>PM 10\\n(µg/m³)</th>\n      <th>Benzene (µg/m³)</th>\n      <th>Toluene (µg/m³)</th>\n      <th>Xylene (µg/m³)</th>\n      <th>AT (oC)</th>\n      <th>RH (%)</th>\n      <th>WD(degree)</th>\n      <th>WS\\n(m/s)</th>\n      <th>SR\\n(W/m²)</th>\n      <th>RF\\n(mm)</th>\n    </tr>\n  </thead>\n  <tbody>\n    <tr>\n      <th>0</th>\n      <td>01-01-18 M on</td>\n      <td>0.94</td>\n      <td>95.5</td>\n      <td>1.5</td>\n      <td>22.9</td>\n      <td>24.4</td>\n      <td>11.4</td>\n      <td>5.5</td>\n      <td>58</td>\n      <td>96</td>\n      <td>2.6</td>\n      <td>3.5</td>\n      <td>0.6</td>\n      <td>25</td>\n      <td>65</td>\n      <td>160</td>\n      <td>2.2</td>\n      <td>79</td>\n      <td>0</td>\n    </tr>\n    <tr>\n      <th>1</th>\n      <td>02-01-18 Tue</td>\n      <td>1.02</td>\n      <td>99</td>\n      <td>1.5</td>\n      <td>28.9</td>\n      <td>30.4</td>\n      <td>11.9</td>\n      <td>10.1</td>\n      <td>65</td>\n      <td>109</td>\n      <td>3</td>\n      <td>3.8</td>\n      <td>0.8</td>\n      <td>24.7</td>\n      <td>60</td>\n      <td>176</td>\n      <td>2</td>\n      <td>120</td>\n      <td>0</td>\n    </tr>\n    <tr>\n      <th>2</th>\n      <td>03-01-18 Wed</td>\n      <td>1.08</td>\n      <td>85.2</td>\n      <td>4.4</td>\n      <td>41.9</td>\n      <td>46.2</td>\n      <td>13.3</td>\n      <td>12.9</td>\n      <td>78</td>\n      <td>151</td>\n      <td>2.9</td>\n      <td>6.2</td>\n      <td>1.7</td>\n      <td>24.2</td>\n      <td>62</td>\n      <td>124</td>\n      <td>1.4</td>\n      <td>118</td>\n      <td>0</td>\n    </tr>\n    <tr>\n      <th>3</th>\n      <td>04-01-18 Thu</td>\n      <td>1.91</td>\n      <td>34.2</td>\n      <td>30.9</td>\n      <td>81.8</td>\n      <td>112.8</td>\n      <td>17.2</td>\n      <td>33.2</td>\n      <td>109</td>\n      <td>234</td>\n      <td>3.4</td>\n      <td>6.1</td>\n      <td>2.5</td>\n      <td>23</td>\n      <td>69</td>\n      <td>214</td>\n      <td>0.8</td>\n      <td>111</td>\n      <td>0</td>\n    </tr>\n    <tr>\n      <th>4</th>\n      <td>05-01-18 Fri</td>\n      <td>1.51</td>\n      <td>57.1</td>\n      <td>41.4</td>\n      <td>59.7</td>\n      <td>101.2</td>\n      <td>14.1</td>\n      <td>11.3</td>\n      <td>90</td>\n      <td>175</td>\n      <td>4.5</td>\n      <td>7.8</td>\n      <td>3.3</td>\n      <td>23.2</td>\n      <td>67</td>\n      <td>221</td>\n      <td>1.3</td>\n      <td>151</td>\n      <td>0</td>\n    </tr>\n  </tbody>\n</table>\n</div>"
          },
          "metadata": {}
        }
      ]
    },
    {
      "cell_type": "code",
      "source": "df.isnull().sum()",
      "metadata": {
        "trusted": true
      },
      "execution_count": 30,
      "outputs": [
        {
          "execution_count": 30,
          "output_type": "execute_result",
          "data": {
            "text/plain": "days                0\nCO\\n(mg/m³)         0\nOzone (µg/m³)       0\nNO\\n(µg/m³)         0\nNO2\\n(µg/m³)        0\nNOx (µg/m³)         2\nNH3\\n(µg/m³)        0\nSO2\\n(µg/m³)        0\nPM 2.5\\n(µg/m³)     2\nPM 10\\n(µg/m³)      3\nBenzene (µg/m³)     1\nToluene (µg/m³)     0\nXylene (µg/m³)      0\nAT (oC)             0\nRH (%)              0\nWD(degree)          0\nWS\\n(m/s)           0\nSR\\n(W/m²)          0\nRF\\n(mm)           60\ndtype: int64"
          },
          "metadata": {}
        }
      ]
    },
    {
      "cell_type": "code",
      "source": "df.shape",
      "metadata": {
        "trusted": true
      },
      "execution_count": 31,
      "outputs": [
        {
          "execution_count": 31,
          "output_type": "execute_result",
          "data": {
            "text/plain": "(2006, 19)"
          },
          "metadata": {}
        }
      ]
    },
    {
      "cell_type": "code",
      "source": "indu = []\nfor i,date in df.days.items():\n    if date in ['Minimum','Maximum','Average']:\n        indu.append(i)",
      "metadata": {
        "trusted": true
      },
      "execution_count": 32,
      "outputs": []
    },
    {
      "cell_type": "code",
      "source": "len(indu)",
      "metadata": {
        "trusted": true
      },
      "execution_count": 33,
      "outputs": [
        {
          "execution_count": 33,
          "output_type": "execute_result",
          "data": {
            "text/plain": "180"
          },
          "metadata": {}
        }
      ]
    },
    {
      "cell_type": "code",
      "source": "df.drop(indu,axis = 0,inplace = True)\ndf.shape",
      "metadata": {
        "trusted": true
      },
      "execution_count": 34,
      "outputs": [
        {
          "execution_count": 34,
          "output_type": "execute_result",
          "data": {
            "text/plain": "(1826, 19)"
          },
          "metadata": {}
        }
      ]
    },
    {
      "cell_type": "code",
      "source": "df.columns = use_cols",
      "metadata": {
        "trusted": true
      },
      "execution_count": 35,
      "outputs": []
    },
    {
      "cell_type": "code",
      "source": "df_copy = df.drop(['Date','WS'],axis =1)",
      "metadata": {
        "trusted": true
      },
      "execution_count": 36,
      "outputs": []
    },
    {
      "cell_type": "code",
      "source": "df.dtypes",
      "metadata": {
        "trusted": true
      },
      "execution_count": 37,
      "outputs": [
        {
          "execution_count": 37,
          "output_type": "execute_result",
          "data": {
            "text/plain": "Date       object\nCO         object\nOzone      object\nNO         object\nNO2        object\nNOx        object\nNH3        object\nSO2        object\nPM2.5      object\nPM10       object\nBenzene    object\nToluene    object\nXylene     object\nTemp       object\nRH         object\nWD         object\nWS         object\nSR         object\nRF         object\ndtype: object"
          },
          "metadata": {}
        }
      ]
    },
    {
      "cell_type": "code",
      "source": "index = []\nfor i, row_data in df_copy.iterrows():\n    # Check if any column contains 'Maint*' (with wildcards)\n    if row_data.astype(str).str.contains('Maint.*|-|Error', regex=True).any():\n        index.append(i)\n\n",
      "metadata": {
        "trusted": true
      },
      "execution_count": 45,
      "outputs": []
    },
    {
      "cell_type": "code",
      "source": "len(index)",
      "metadata": {
        "trusted": true
      },
      "execution_count": 46,
      "outputs": [
        {
          "execution_count": 46,
          "output_type": "execute_result",
          "data": {
            "text/plain": "130"
          },
          "metadata": {}
        }
      ]
    },
    {
      "cell_type": "code",
      "source": "# df_copy.drop(index,axis=0, inplace=True)\ndf_copy.shape",
      "metadata": {
        "trusted": true
      },
      "execution_count": 49,
      "outputs": [
        {
          "execution_count": 49,
          "output_type": "execute_result",
          "data": {
            "text/plain": "(1671, 17)"
          },
          "metadata": {}
        }
      ]
    },
    {
      "cell_type": "code",
      "source": "cols = ['CO','Ozone','NO','NO2','NOx','NH3','SO2','PM2.5','PM10','Benzene','Toluene','Xylene','Temp','RH','WD','SR','RF']",
      "metadata": {
        "trusted": true
      },
      "execution_count": 50,
      "outputs": []
    },
    {
      "cell_type": "code",
      "source": "df[cols] = df_copy[cols]",
      "metadata": {
        "trusted": true
      },
      "execution_count": 51,
      "outputs": []
    },
    {
      "cell_type": "code",
      "source": "df.CO.astype(float)",
      "metadata": {
        "trusted": true
      },
      "execution_count": 52,
      "outputs": [
        {
          "execution_count": 52,
          "output_type": "execute_result",
          "data": {
            "text/plain": "0       0.94\n1       1.02\n2       1.08\n3       1.91\n4       1.51\n        ... \n1998    0.59\n1999    0.59\n2000    0.53\n2001    0.59\n2002    0.59\nName: CO, Length: 1826, dtype: float64"
          },
          "metadata": {}
        }
      ]
    },
    {
      "cell_type": "code",
      "source": "df[cols] = df[cols].astype(float)",
      "metadata": {
        "trusted": true
      },
      "execution_count": 53,
      "outputs": []
    },
    {
      "cell_type": "code",
      "source": "df[\"Date\"]  = pd.to_datetime(df.Date)",
      "metadata": {
        "trusted": true
      },
      "execution_count": 54,
      "outputs": []
    },
    {
      "cell_type": "code",
      "source": "df.head()",
      "metadata": {
        "trusted": true
      },
      "execution_count": 55,
      "outputs": [
        {
          "execution_count": 55,
          "output_type": "execute_result",
          "data": {
            "text/plain": "        Date    CO  Ozone    NO   NO2    NOx   NH3   SO2  PM2.5   PM10  \\\n0 2018-01-01  0.94   95.5   1.5  22.9   24.4  11.4   5.5   58.0   96.0   \n1 2018-02-01  1.02   99.0   1.5  28.9   30.4  11.9  10.1   65.0  109.0   \n2 2018-03-01  1.08   85.2   4.4  41.9   46.2  13.3  12.9   78.0  151.0   \n3 2018-04-01  1.91   34.2  30.9  81.8  112.8  17.2  33.2  109.0  234.0   \n4 2018-05-01  1.51   57.1  41.4  59.7  101.2  14.1  11.3   90.0  175.0   \n\n   Benzene  Toluene  Xylene  Temp    RH     WD   WS     SR   RF  \n0      2.6      3.5     0.6  25.0  65.0  160.0  2.2   79.0  0.0  \n1      3.0      3.8     0.8  24.7  60.0  176.0    2  120.0  0.0  \n2      2.9      6.2     1.7  24.2  62.0  124.0  1.4  118.0  0.0  \n3      3.4      6.1     2.5  23.0  69.0  214.0  0.8  111.0  0.0  \n4      4.5      7.8     3.3  23.2  67.0  221.0  1.3  151.0  0.0  ",
            "text/html": "<div>\n<style scoped>\n    .dataframe tbody tr th:only-of-type {\n        vertical-align: middle;\n    }\n\n    .dataframe tbody tr th {\n        vertical-align: top;\n    }\n\n    .dataframe thead th {\n        text-align: right;\n    }\n</style>\n<table border=\"1\" class=\"dataframe\">\n  <thead>\n    <tr style=\"text-align: right;\">\n      <th></th>\n      <th>Date</th>\n      <th>CO</th>\n      <th>Ozone</th>\n      <th>NO</th>\n      <th>NO2</th>\n      <th>NOx</th>\n      <th>NH3</th>\n      <th>SO2</th>\n      <th>PM2.5</th>\n      <th>PM10</th>\n      <th>Benzene</th>\n      <th>Toluene</th>\n      <th>Xylene</th>\n      <th>Temp</th>\n      <th>RH</th>\n      <th>WD</th>\n      <th>WS</th>\n      <th>SR</th>\n      <th>RF</th>\n    </tr>\n  </thead>\n  <tbody>\n    <tr>\n      <th>0</th>\n      <td>2018-01-01</td>\n      <td>0.94</td>\n      <td>95.5</td>\n      <td>1.5</td>\n      <td>22.9</td>\n      <td>24.4</td>\n      <td>11.4</td>\n      <td>5.5</td>\n      <td>58.0</td>\n      <td>96.0</td>\n      <td>2.6</td>\n      <td>3.5</td>\n      <td>0.6</td>\n      <td>25.0</td>\n      <td>65.0</td>\n      <td>160.0</td>\n      <td>2.2</td>\n      <td>79.0</td>\n      <td>0.0</td>\n    </tr>\n    <tr>\n      <th>1</th>\n      <td>2018-02-01</td>\n      <td>1.02</td>\n      <td>99.0</td>\n      <td>1.5</td>\n      <td>28.9</td>\n      <td>30.4</td>\n      <td>11.9</td>\n      <td>10.1</td>\n      <td>65.0</td>\n      <td>109.0</td>\n      <td>3.0</td>\n      <td>3.8</td>\n      <td>0.8</td>\n      <td>24.7</td>\n      <td>60.0</td>\n      <td>176.0</td>\n      <td>2</td>\n      <td>120.0</td>\n      <td>0.0</td>\n    </tr>\n    <tr>\n      <th>2</th>\n      <td>2018-03-01</td>\n      <td>1.08</td>\n      <td>85.2</td>\n      <td>4.4</td>\n      <td>41.9</td>\n      <td>46.2</td>\n      <td>13.3</td>\n      <td>12.9</td>\n      <td>78.0</td>\n      <td>151.0</td>\n      <td>2.9</td>\n      <td>6.2</td>\n      <td>1.7</td>\n      <td>24.2</td>\n      <td>62.0</td>\n      <td>124.0</td>\n      <td>1.4</td>\n      <td>118.0</td>\n      <td>0.0</td>\n    </tr>\n    <tr>\n      <th>3</th>\n      <td>2018-04-01</td>\n      <td>1.91</td>\n      <td>34.2</td>\n      <td>30.9</td>\n      <td>81.8</td>\n      <td>112.8</td>\n      <td>17.2</td>\n      <td>33.2</td>\n      <td>109.0</td>\n      <td>234.0</td>\n      <td>3.4</td>\n      <td>6.1</td>\n      <td>2.5</td>\n      <td>23.0</td>\n      <td>69.0</td>\n      <td>214.0</td>\n      <td>0.8</td>\n      <td>111.0</td>\n      <td>0.0</td>\n    </tr>\n    <tr>\n      <th>4</th>\n      <td>2018-05-01</td>\n      <td>1.51</td>\n      <td>57.1</td>\n      <td>41.4</td>\n      <td>59.7</td>\n      <td>101.2</td>\n      <td>14.1</td>\n      <td>11.3</td>\n      <td>90.0</td>\n      <td>175.0</td>\n      <td>4.5</td>\n      <td>7.8</td>\n      <td>3.3</td>\n      <td>23.2</td>\n      <td>67.0</td>\n      <td>221.0</td>\n      <td>1.3</td>\n      <td>151.0</td>\n      <td>0.0</td>\n    </tr>\n  </tbody>\n</table>\n</div>"
          },
          "metadata": {}
        }
      ]
    },
    {
      "cell_type": "code",
      "source": "df[\"Month\"] = df.Date.dt.month",
      "metadata": {
        "trusted": true
      },
      "execution_count": 18,
      "outputs": []
    },
    {
      "cell_type": "code",
      "source": "df[\"Year\"] = df.Date.dt.year\n",
      "metadata": {
        "trusted": true
      },
      "execution_count": 19,
      "outputs": []
    },
    {
      "cell_type": "code",
      "source": "df[\"Date\"] = df.Date.dt.date",
      "metadata": {
        "trusted": true
      },
      "execution_count": 20,
      "outputs": []
    },
    {
      "cell_type": "code",
      "source": "Pivot_table",
      "metadata": {
        "trusted": true
      },
      "execution_count": 42,
      "outputs": [
        {
          "execution_count": 42,
          "output_type": "execute_result",
          "data": {
            "text/plain": "                                                 Benzene  \\\nMonth                                                 1    \nYear                                                       \n2018   [2.6, 7.7, 7.2, 4.4, 3.2, 4, 4.8, 6.4, 5, 4.2,...   \n2019   [6, 2.9, 4.6, 3.2, 1.1, 4.6, 9.7, 4.4, -, 4.2,...   \n2020   [4.7, 3.6, 4.5, 6.9, 9.3, 5.6, 4.6, 3.6, 3.4, ...   \n2021   [-, 2.7, 2.7, 2.2, 2.9, 3.2, 3.2, 2.6, 2.1, 5....   \n2022   [2.2, 2.2, 3.8, 3, 3.7, 5.5, 2.9, 5.1, 9.1, 6,...   \n\n                                                          \\\nMonth                                                 2    \nYear                                                       \n2018   [3, 8.2, 5.5, 3.4, 6.4, 4.4, 3.8, 3.5, 4.5, 4....   \n2019   [5.3, 5.6, 1.2, 2.3, 2, 2.7, 5.6, 4.6, -, -, 6...   \n2020   [4.9, 2.5, 4.6, 6.3, 4.3, 5.4, 4.7, 5.6, 4.1, ...   \n2021   [1.9, 1.6, 4.3, 3.8, 3.9, 3.6, 3.5, 2.7, 5.4, ...   \n2022   [3.5, 2.6, 1.8, 3, 1.9, 2.4, 4.1, 3.8, 3.6, 0....   \n\n                                                          \\\nMonth                                                 3    \nYear                                                       \n2018   [2.9, 8.6, 5, 3.1, 6.9, 4, 4.6, 4.4, 5.1, 3.2,...   \n2019   [5.8, 4.7, 1.4, 1.9, 5, 7.8, 6.9, 7, 6, -, 6.5...   \n2020   [4.9, 2.8, 5.8, 2.2, 2.5, 3.8, 4.3, 5.1, 4.9, ...   \n2021   [2.8, 3.5, 4.4, 3.4, 3.2, 2.7, 1.6, 1.7, 4, 1....   \n2022   [0, 0, 0, 0, 0, 0, 0, 0, 0, 0, 0, 0, 0, 0, 0, ...   \n\n                                                          \\\nMonth                                                 4    \nYear                                                       \n2018   [3.4, 7.3, 4.8, 3.5, 5.2, 3.8, 4.9, 6.1, 4.6, ...   \n2019   [5, 3, 1.9, 3.2, 2.4, 3.6, 6.8, 6, 4.7, -, 6.9...   \n2020   [4.6, 4.1, 2.3, 5, 4.2, 3.2, 2.2, 2.2, 2.3, 2....   \n2021   [5.1, 2.9, 1.2, 3.4, 2.1, 3.1, 1.4, 1.6, 2.2, ...   \n2022   [1.3, 1, 2.1, 0.6, 0.9, 1.1, 2.1, 1.6, 1.9, 1....   \n\n                                                          \\\nMonth                                                 5    \nYear                                                       \n2018   [4.5, 7.5, 5.5, 3.6, 3.9, 5.6, 4.9, 4.7, 5.1, ...   \n2019   [3.1, 5.4, 1.6, 2.4, 3.2, 5.6, 5.6, 6.3, 5, 6....   \n2020   [2.9, 2.1, 4.6, 6.2, 2.7, 2.1, 2.8, 2.3, 2.6, ...   \n2021   [2.7, 2.1, 2, 1.5, 1.8, 2.1, 1.8, 1.3, 1.9, 2....   \n2022   [2.3, 1, 1.4, 3.6, 1.4, 2.8, 2.2, 0.9, 0.7, 0....   \n\n                                                          \\\nMonth                                                 6    \nYear                                                       \n2018   [5.3, 8.2, 6.1, 3.9, 3.5, 5.4, 5.1, 5.9, 5.1, ...   \n2019   [4.1, 5.5, 1.9, 2.8, 2.2, 6.3, 5.8, 6.6, 5.4, ...   \n2020   [2.4, 3.4, 1.5, 3.1, 1.6, 2.5, 3.4, 4.1, 2.6, ...   \n2021   [2.8, 2, 2.1, 2.5, 1.1, 1.5, 2.2, 2.3, 2.3, 3....   \n2022   [2, 3.2, 3.1, 1.6, 1.1, 2.3, 4.9, 3.8, 2.9, 3,...   \n\n                                                          \\\nMonth                                                 7    \nYear                                                       \n2018   [5, 6.5, 6.4, 4.6, 4.2, 3.6, 6.2, 5, 5.4, 3.4,...   \n2019   [5, 5.4, 1.5, 2.5, 2.1, 5.2, 5.9, 8.2, 4.7, 5....   \n2020   [-, 3.8, 3.7, 3.8, 2, 1.2, 2.1, 1.4, 2, 1.6, 1...   \n2021   [3.2, 3.7, 3.2, 3.9, 1.2, 2.8, 5.7, 6.3, 8.8, ...   \n2022   [2.5, 3, 5.4, 3.1, 3, 2.7, 2.8, 2.6, 2.3, 1.8,...   \n\n                                                          \\\nMonth                                                 8    \nYear                                                       \n2018   [5.4, 7.2, 2.9, 2.3, 4.6, 5.3, 4.8, 5.3, 4.5, ...   \n2019   [7.5, 3.4, 1.8, 2.5, 2.6, 5.4, 3.4, 4.8, 6, 9,...   \n2020   [0.6, 3.4, 0.6, 2.7, 4.7, 0.7, 0.6, 0.6, 0.7, ...   \n2021   [3.6, 4.6, 3.7, 7.8, 6.5, 8.6, 5.9, 2.7, 4.6, ...   \n2022   [2, 1.9, 1.6, 1.4, 1.8, 2.2, 2.2, 2.2, 1.5, 2....   \n\n                                                          \\\nMonth                                                 9    \nYear                                                       \n2018   [2.5, 6.7, 3.3, 4.7, 4.6, 4.5, 4.6, 4.6, 5.4, ...   \n2019   [4.8, 1.7, 2.2, 2.8, 3.3, 6.6, 9.3, 6.8, 5.3, ...   \n2020   [8.7, 2.1, 1.8, 2.7, 1.1, 2.7, 0.7, 1.6, 1.2, ...   \n2021   [0.8, 2.5, 3.2, 3.8, 3.5, 5.6, 5.2, 7.1, 5.5, ...   \n2022   [1.3, 0.8, 2.4, 3.3, 2.6, 1.9, 4.7, 1.6, 1.3, ...   \n\n                                                          ...  \\\nMonth                                                 10  ...   \nYear                                                      ...   \n2018   [4.3, 8.4, 6.2, 5.6, 5.6, 4.2, 4.2, 5.7, 4.8, ...  ...   \n2019   [4.1, 1.3, 1, 2, 2.8, 5.4, 4.9, 6.5, 5.1, 4.7,...  ...   \n2020   [3.4, 3, 3, 2.1, 2.6, 2, 2.5, 1.6, 1.3, 1.3, 0...  ...   \n2021   [1.7, 1.1, 1, 1.7, 1.2, 0.6, 1.2, 1.7, 2.7, 2....  ...   \n2022   [1.9, 1.6, 1.1, 3.7, 1, 1.1, 1.5, 1.8, 1.2, 2....  ...   \n\n                                                  Xylene  \\\nMonth                                                 3    \nYear                                                       \n2018   [1.7, 5.1, 2.3, 2.3, 5.9, 2.3, 4.2, 3.7, 3.6, ...   \n2019   [4.9, 2.7, 0.4, 0.7, 2.3, 7.3, 4.2, 7.7, 31.8,...   \n2020   [1.1, 0.5, 3.4, 0.7, 1.5, 2.9, 2.7, 2.7, 3.7, ...   \n2021   [2.1, 2.3, 2.5, 2.6, 2.8, 2.2, 4.7, 1.5, 4.6, ...   \n2022   [0, 0, 0, 0, 0, 0, 0, 0, 0, 0, 0, 0, 0, 0, 0, ...   \n\n                                                          \\\nMonth                                                 4    \nYear                                                       \n2018   [2.5, 4.2, 2, 2.2, 3.2, 1.8, 3.8, 5, 3.9, 3.7,...   \n2019   [3.7, 1.3, 0.5, 1, 0.9, 2, 3.6, 3.8, 4.9, -, 3...   \n2020   [1.9, 1, 1, 3.1, 2.2, 1, 0.8, 1, 1.1, 1, 1.1, ...   \n2021   [2.4, 1.5, 0.9, 2.8, 1.5, 1.4, 1.5, 1.4, 1.5, ...   \n2022   [1.1, 0.9, 0.9, 0.9, 1, 1, 1.1, 1.1, 1.1, 0.8,...   \n\n                                                          \\\nMonth                                                 5    \nYear                                                       \n2018   [3.3, 4.9, 3, 2.3, 2.4, 3.6, 3.9, 2.7, 4.4, 4....   \n2019   [1.3, 2.5, 0.6, 0.9, 0.7, 2.5, 3.9, 6.2, 6.1, ...   \n2020   [0.6, 0.7, 2.4, 4.8, 2.3, 1.2, 1.2, 0.7, 2.3, ...   \n2021   [1.2, 0.9, 1.2, 1.5, 1.4, 1.6, 1.5, 0.7, 1.3, ...   \n2022   [0.9, 0.8, 0.9, 1.8, 1.7, 2.3, 1.6, 1.4, 0.6, ...   \n\n                                                          \\\nMonth                                                 6    \nYear                                                       \n2018   [4, 6, 2.1, 2.1, 1.8, 3.5, 4.5, 3.6, 4.9, 5.3,...   \n2019   [2, 3.1, 0.6, 0.9, 0.7, 4, 4.1, 5.6, 5.4, 2.9,...   \n2020   [0.8, 0.8, 0.8, 0.9, 0.9, 1.2, 1.7, 1.5, 1.4, ...   \n2021   [1.5, 1, 1.3, 1, 1.1, 1, 1.4, 2, 2.1, 2, 1.8, ...   \n2022   [1.6, 1.6, 1.5, 1.5, 1.2, 2.7, 3.7, 3.4, 2.8, ...   \n\n                                                          \\\nMonth                                                 7    \nYear                                                       \n2018   [3.4, 3.7, 3.7, 3.1, 2.6, 2.5, 4.2, 4, 4.8, 2....   \n2019   [2.7, 2.6, 0.3, 0.8, 0.5, 2.3, 3, 6.7, 4.9, 5....   \n2020   [-, 1.2, 3.8, 2.5, 1.4, 0.3, 1.3, 0.9, 1.2, 1,...   \n2021   [1.3, 2.4, 1.5, 1.8, 0.4, 0.8, 3, 5, 4.6, 3.5,...   \n2022   [2.2, 2.7, 3, 3.1, 2.8, 2.8, 3.7, 3.1, 2.5, 2....   \n\n                                                          \\\nMonth                                                 8    \nYear                                                       \n2018   [2.2, 3.4, 1.4, 1.4, 2.6, 3, 2.6, 4.9, 2.9, 2....   \n2019   [4.9, 1.6, 0.9, 0.9, 0.7, 2.2, 1.5, 5.3, 3.6, ...   \n2020   [0.5, 1.9, 0.5, 0.7, 2, 0.5, 0.3, 0.2, 0.2, 0....   \n2021   [2.7, 3, 2.6, 3.2, 4.4, 4.7, 2.8, 1.8, 1.9, 2....   \n2022   [1.5, 1.6, 1.4, 1.2, 1.7, 1.4, 1.4, 1.6, 1.1, ...   \n\n                                                          \\\nMonth                                                 9    \nYear                                                       \n2018   [0.8, 3.8, 1.4, 3.2, 2.8, 2.8, 3.2, 3.7, 3.6, ...   \n2019   [3.1, 0.5, 1.2, 0.7, 0.9, 3.3, 5.7, 4.5, 3.4, ...   \n2020   [7.5, 3.1, 2.5, 2.2, 1.1, 1.8, 0.8, 1.6, 0.9, ...   \n2021   [4, 1.8, 3.2, 2.6, 2, 3.4, 3.3, 5.5, 6.5, 5.5,...   \n2022   [0.6, 4.6, 2, 1, 3.2, 5.5, 15.7, 0.6, 0.5, 1.1...   \n\n                                                          \\\nMonth                                                 10   \nYear                                                       \n2018   [2.1, 3.1, 3.3, 4, 2.9, 1.7, 3.3, 4, 3.2, 3.6,...   \n2019   [2.4, 0.5, 0.3, 0.6, 0.7, 3, 3.3, 6.1, 4.8, 3....   \n2020   [1.2, 3.9, 0.9, 2.9, 1.3, 2.2, 3.1, 1.9, 1.5, ...   \n2021   [1.8, 2.3, 2.6, 3.4, 3.6, 2.5, 3.4, 5.3, 3.6, ...   \n2022   [1.1, 0.9, 0.9, 1, 0.4, 0.4, 0.8, 0.9, 0.5, 1....   \n\n                                                          \\\nMonth                                                 11   \nYear                                                       \n2018   [2.6, 1.7, 2.7, 2.5, 2, 2.5, 4.2, 4.2, 4.1, 5....   \n2019   [1.1, 0.2, 0.5, -, 0.8, 3.7, 2.8, 3.1, 5.4, 4....   \n2020   [1.3, 0.1, 0.8, 0.1, 0.1, 2, 0.2, 0.1, 0, 0.2,...   \n2021   [74.7, 22.8, 7.4, 4.7, 4.6, 3.5, 3, 2.5, 2.1, ...   \n2022   [0.6, 0.5, 0.6, 0.6, 1.4, 3, 1.8, 2.3, 0.8, 0....   \n\n                                                          \nMonth                                                 12  \nYear                                                      \n2018   [2.7, 1.4, 2.7, 2.2, 2.5, 3.8, 4.1, 2.7, 4.1, ...  \n2019   [2.3, 0.3, 0.7, 1.2, 0.6, 3.5, 2.8, 7.4, 4.5, ...  \n2020   [1.2, 3.9, 1.2, 4.1, 3.7, 1.6, 3.8, 2.9, 2, 3....  \n2021   [0.7, 0.6, 0.7, 0.7, 0.8, 0.7, 0.6, 0.5, 1.1, ...  \n2022   [0.7, 0.7, 0.7, 0.5, 0.5, 0.8, 0.6, 0.3, 0.5, ...  \n\n[5 rows x 96 columns]",
            "text/html": "<div>\n<style scoped>\n    .dataframe tbody tr th:only-of-type {\n        vertical-align: middle;\n    }\n\n    .dataframe tbody tr th {\n        vertical-align: top;\n    }\n\n    .dataframe thead tr th {\n        text-align: left;\n    }\n\n    .dataframe thead tr:last-of-type th {\n        text-align: right;\n    }\n</style>\n<table border=\"1\" class=\"dataframe\">\n  <thead>\n    <tr>\n      <th></th>\n      <th colspan=\"10\" halign=\"left\">Benzene</th>\n      <th>...</th>\n      <th colspan=\"10\" halign=\"left\">Xylene</th>\n    </tr>\n    <tr>\n      <th>Month</th>\n      <th>1</th>\n      <th>2</th>\n      <th>3</th>\n      <th>4</th>\n      <th>5</th>\n      <th>6</th>\n      <th>7</th>\n      <th>8</th>\n      <th>9</th>\n      <th>10</th>\n      <th>...</th>\n      <th>3</th>\n      <th>4</th>\n      <th>5</th>\n      <th>6</th>\n      <th>7</th>\n      <th>8</th>\n      <th>9</th>\n      <th>10</th>\n      <th>11</th>\n      <th>12</th>\n    </tr>\n    <tr>\n      <th>Year</th>\n      <th></th>\n      <th></th>\n      <th></th>\n      <th></th>\n      <th></th>\n      <th></th>\n      <th></th>\n      <th></th>\n      <th></th>\n      <th></th>\n      <th></th>\n      <th></th>\n      <th></th>\n      <th></th>\n      <th></th>\n      <th></th>\n      <th></th>\n      <th></th>\n      <th></th>\n      <th></th>\n      <th></th>\n    </tr>\n  </thead>\n  <tbody>\n    <tr>\n      <th>2018</th>\n      <td>[2.6, 7.7, 7.2, 4.4, 3.2, 4, 4.8, 6.4, 5, 4.2,...</td>\n      <td>[3, 8.2, 5.5, 3.4, 6.4, 4.4, 3.8, 3.5, 4.5, 4....</td>\n      <td>[2.9, 8.6, 5, 3.1, 6.9, 4, 4.6, 4.4, 5.1, 3.2,...</td>\n      <td>[3.4, 7.3, 4.8, 3.5, 5.2, 3.8, 4.9, 6.1, 4.6, ...</td>\n      <td>[4.5, 7.5, 5.5, 3.6, 3.9, 5.6, 4.9, 4.7, 5.1, ...</td>\n      <td>[5.3, 8.2, 6.1, 3.9, 3.5, 5.4, 5.1, 5.9, 5.1, ...</td>\n      <td>[5, 6.5, 6.4, 4.6, 4.2, 3.6, 6.2, 5, 5.4, 3.4,...</td>\n      <td>[5.4, 7.2, 2.9, 2.3, 4.6, 5.3, 4.8, 5.3, 4.5, ...</td>\n      <td>[2.5, 6.7, 3.3, 4.7, 4.6, 4.5, 4.6, 4.6, 5.4, ...</td>\n      <td>[4.3, 8.4, 6.2, 5.6, 5.6, 4.2, 4.2, 5.7, 4.8, ...</td>\n      <td>...</td>\n      <td>[1.7, 5.1, 2.3, 2.3, 5.9, 2.3, 4.2, 3.7, 3.6, ...</td>\n      <td>[2.5, 4.2, 2, 2.2, 3.2, 1.8, 3.8, 5, 3.9, 3.7,...</td>\n      <td>[3.3, 4.9, 3, 2.3, 2.4, 3.6, 3.9, 2.7, 4.4, 4....</td>\n      <td>[4, 6, 2.1, 2.1, 1.8, 3.5, 4.5, 3.6, 4.9, 5.3,...</td>\n      <td>[3.4, 3.7, 3.7, 3.1, 2.6, 2.5, 4.2, 4, 4.8, 2....</td>\n      <td>[2.2, 3.4, 1.4, 1.4, 2.6, 3, 2.6, 4.9, 2.9, 2....</td>\n      <td>[0.8, 3.8, 1.4, 3.2, 2.8, 2.8, 3.2, 3.7, 3.6, ...</td>\n      <td>[2.1, 3.1, 3.3, 4, 2.9, 1.7, 3.3, 4, 3.2, 3.6,...</td>\n      <td>[2.6, 1.7, 2.7, 2.5, 2, 2.5, 4.2, 4.2, 4.1, 5....</td>\n      <td>[2.7, 1.4, 2.7, 2.2, 2.5, 3.8, 4.1, 2.7, 4.1, ...</td>\n    </tr>\n    <tr>\n      <th>2019</th>\n      <td>[6, 2.9, 4.6, 3.2, 1.1, 4.6, 9.7, 4.4, -, 4.2,...</td>\n      <td>[5.3, 5.6, 1.2, 2.3, 2, 2.7, 5.6, 4.6, -, -, 6...</td>\n      <td>[5.8, 4.7, 1.4, 1.9, 5, 7.8, 6.9, 7, 6, -, 6.5...</td>\n      <td>[5, 3, 1.9, 3.2, 2.4, 3.6, 6.8, 6, 4.7, -, 6.9...</td>\n      <td>[3.1, 5.4, 1.6, 2.4, 3.2, 5.6, 5.6, 6.3, 5, 6....</td>\n      <td>[4.1, 5.5, 1.9, 2.8, 2.2, 6.3, 5.8, 6.6, 5.4, ...</td>\n      <td>[5, 5.4, 1.5, 2.5, 2.1, 5.2, 5.9, 8.2, 4.7, 5....</td>\n      <td>[7.5, 3.4, 1.8, 2.5, 2.6, 5.4, 3.4, 4.8, 6, 9,...</td>\n      <td>[4.8, 1.7, 2.2, 2.8, 3.3, 6.6, 9.3, 6.8, 5.3, ...</td>\n      <td>[4.1, 1.3, 1, 2, 2.8, 5.4, 4.9, 6.5, 5.1, 4.7,...</td>\n      <td>...</td>\n      <td>[4.9, 2.7, 0.4, 0.7, 2.3, 7.3, 4.2, 7.7, 31.8,...</td>\n      <td>[3.7, 1.3, 0.5, 1, 0.9, 2, 3.6, 3.8, 4.9, -, 3...</td>\n      <td>[1.3, 2.5, 0.6, 0.9, 0.7, 2.5, 3.9, 6.2, 6.1, ...</td>\n      <td>[2, 3.1, 0.6, 0.9, 0.7, 4, 4.1, 5.6, 5.4, 2.9,...</td>\n      <td>[2.7, 2.6, 0.3, 0.8, 0.5, 2.3, 3, 6.7, 4.9, 5....</td>\n      <td>[4.9, 1.6, 0.9, 0.9, 0.7, 2.2, 1.5, 5.3, 3.6, ...</td>\n      <td>[3.1, 0.5, 1.2, 0.7, 0.9, 3.3, 5.7, 4.5, 3.4, ...</td>\n      <td>[2.4, 0.5, 0.3, 0.6, 0.7, 3, 3.3, 6.1, 4.8, 3....</td>\n      <td>[1.1, 0.2, 0.5, -, 0.8, 3.7, 2.8, 3.1, 5.4, 4....</td>\n      <td>[2.3, 0.3, 0.7, 1.2, 0.6, 3.5, 2.8, 7.4, 4.5, ...</td>\n    </tr>\n    <tr>\n      <th>2020</th>\n      <td>[4.7, 3.6, 4.5, 6.9, 9.3, 5.6, 4.6, 3.6, 3.4, ...</td>\n      <td>[4.9, 2.5, 4.6, 6.3, 4.3, 5.4, 4.7, 5.6, 4.1, ...</td>\n      <td>[4.9, 2.8, 5.8, 2.2, 2.5, 3.8, 4.3, 5.1, 4.9, ...</td>\n      <td>[4.6, 4.1, 2.3, 5, 4.2, 3.2, 2.2, 2.2, 2.3, 2....</td>\n      <td>[2.9, 2.1, 4.6, 6.2, 2.7, 2.1, 2.8, 2.3, 2.6, ...</td>\n      <td>[2.4, 3.4, 1.5, 3.1, 1.6, 2.5, 3.4, 4.1, 2.6, ...</td>\n      <td>[-, 3.8, 3.7, 3.8, 2, 1.2, 2.1, 1.4, 2, 1.6, 1...</td>\n      <td>[0.6, 3.4, 0.6, 2.7, 4.7, 0.7, 0.6, 0.6, 0.7, ...</td>\n      <td>[8.7, 2.1, 1.8, 2.7, 1.1, 2.7, 0.7, 1.6, 1.2, ...</td>\n      <td>[3.4, 3, 3, 2.1, 2.6, 2, 2.5, 1.6, 1.3, 1.3, 0...</td>\n      <td>...</td>\n      <td>[1.1, 0.5, 3.4, 0.7, 1.5, 2.9, 2.7, 2.7, 3.7, ...</td>\n      <td>[1.9, 1, 1, 3.1, 2.2, 1, 0.8, 1, 1.1, 1, 1.1, ...</td>\n      <td>[0.6, 0.7, 2.4, 4.8, 2.3, 1.2, 1.2, 0.7, 2.3, ...</td>\n      <td>[0.8, 0.8, 0.8, 0.9, 0.9, 1.2, 1.7, 1.5, 1.4, ...</td>\n      <td>[-, 1.2, 3.8, 2.5, 1.4, 0.3, 1.3, 0.9, 1.2, 1,...</td>\n      <td>[0.5, 1.9, 0.5, 0.7, 2, 0.5, 0.3, 0.2, 0.2, 0....</td>\n      <td>[7.5, 3.1, 2.5, 2.2, 1.1, 1.8, 0.8, 1.6, 0.9, ...</td>\n      <td>[1.2, 3.9, 0.9, 2.9, 1.3, 2.2, 3.1, 1.9, 1.5, ...</td>\n      <td>[1.3, 0.1, 0.8, 0.1, 0.1, 2, 0.2, 0.1, 0, 0.2,...</td>\n      <td>[1.2, 3.9, 1.2, 4.1, 3.7, 1.6, 3.8, 2.9, 2, 3....</td>\n    </tr>\n    <tr>\n      <th>2021</th>\n      <td>[-, 2.7, 2.7, 2.2, 2.9, 3.2, 3.2, 2.6, 2.1, 5....</td>\n      <td>[1.9, 1.6, 4.3, 3.8, 3.9, 3.6, 3.5, 2.7, 5.4, ...</td>\n      <td>[2.8, 3.5, 4.4, 3.4, 3.2, 2.7, 1.6, 1.7, 4, 1....</td>\n      <td>[5.1, 2.9, 1.2, 3.4, 2.1, 3.1, 1.4, 1.6, 2.2, ...</td>\n      <td>[2.7, 2.1, 2, 1.5, 1.8, 2.1, 1.8, 1.3, 1.9, 2....</td>\n      <td>[2.8, 2, 2.1, 2.5, 1.1, 1.5, 2.2, 2.3, 2.3, 3....</td>\n      <td>[3.2, 3.7, 3.2, 3.9, 1.2, 2.8, 5.7, 6.3, 8.8, ...</td>\n      <td>[3.6, 4.6, 3.7, 7.8, 6.5, 8.6, 5.9, 2.7, 4.6, ...</td>\n      <td>[0.8, 2.5, 3.2, 3.8, 3.5, 5.6, 5.2, 7.1, 5.5, ...</td>\n      <td>[1.7, 1.1, 1, 1.7, 1.2, 0.6, 1.2, 1.7, 2.7, 2....</td>\n      <td>...</td>\n      <td>[2.1, 2.3, 2.5, 2.6, 2.8, 2.2, 4.7, 1.5, 4.6, ...</td>\n      <td>[2.4, 1.5, 0.9, 2.8, 1.5, 1.4, 1.5, 1.4, 1.5, ...</td>\n      <td>[1.2, 0.9, 1.2, 1.5, 1.4, 1.6, 1.5, 0.7, 1.3, ...</td>\n      <td>[1.5, 1, 1.3, 1, 1.1, 1, 1.4, 2, 2.1, 2, 1.8, ...</td>\n      <td>[1.3, 2.4, 1.5, 1.8, 0.4, 0.8, 3, 5, 4.6, 3.5,...</td>\n      <td>[2.7, 3, 2.6, 3.2, 4.4, 4.7, 2.8, 1.8, 1.9, 2....</td>\n      <td>[4, 1.8, 3.2, 2.6, 2, 3.4, 3.3, 5.5, 6.5, 5.5,...</td>\n      <td>[1.8, 2.3, 2.6, 3.4, 3.6, 2.5, 3.4, 5.3, 3.6, ...</td>\n      <td>[74.7, 22.8, 7.4, 4.7, 4.6, 3.5, 3, 2.5, 2.1, ...</td>\n      <td>[0.7, 0.6, 0.7, 0.7, 0.8, 0.7, 0.6, 0.5, 1.1, ...</td>\n    </tr>\n    <tr>\n      <th>2022</th>\n      <td>[2.2, 2.2, 3.8, 3, 3.7, 5.5, 2.9, 5.1, 9.1, 6,...</td>\n      <td>[3.5, 2.6, 1.8, 3, 1.9, 2.4, 4.1, 3.8, 3.6, 0....</td>\n      <td>[0, 0, 0, 0, 0, 0, 0, 0, 0, 0, 0, 0, 0, 0, 0, ...</td>\n      <td>[1.3, 1, 2.1, 0.6, 0.9, 1.1, 2.1, 1.6, 1.9, 1....</td>\n      <td>[2.3, 1, 1.4, 3.6, 1.4, 2.8, 2.2, 0.9, 0.7, 0....</td>\n      <td>[2, 3.2, 3.1, 1.6, 1.1, 2.3, 4.9, 3.8, 2.9, 3,...</td>\n      <td>[2.5, 3, 5.4, 3.1, 3, 2.7, 2.8, 2.6, 2.3, 1.8,...</td>\n      <td>[2, 1.9, 1.6, 1.4, 1.8, 2.2, 2.2, 2.2, 1.5, 2....</td>\n      <td>[1.3, 0.8, 2.4, 3.3, 2.6, 1.9, 4.7, 1.6, 1.3, ...</td>\n      <td>[1.9, 1.6, 1.1, 3.7, 1, 1.1, 1.5, 1.8, 1.2, 2....</td>\n      <td>...</td>\n      <td>[0, 0, 0, 0, 0, 0, 0, 0, 0, 0, 0, 0, 0, 0, 0, ...</td>\n      <td>[1.1, 0.9, 0.9, 0.9, 1, 1, 1.1, 1.1, 1.1, 0.8,...</td>\n      <td>[0.9, 0.8, 0.9, 1.8, 1.7, 2.3, 1.6, 1.4, 0.6, ...</td>\n      <td>[1.6, 1.6, 1.5, 1.5, 1.2, 2.7, 3.7, 3.4, 2.8, ...</td>\n      <td>[2.2, 2.7, 3, 3.1, 2.8, 2.8, 3.7, 3.1, 2.5, 2....</td>\n      <td>[1.5, 1.6, 1.4, 1.2, 1.7, 1.4, 1.4, 1.6, 1.1, ...</td>\n      <td>[0.6, 4.6, 2, 1, 3.2, 5.5, 15.7, 0.6, 0.5, 1.1...</td>\n      <td>[1.1, 0.9, 0.9, 1, 0.4, 0.4, 0.8, 0.9, 0.5, 1....</td>\n      <td>[0.6, 0.5, 0.6, 0.6, 1.4, 3, 1.8, 2.3, 0.8, 0....</td>\n      <td>[0.7, 0.7, 0.7, 0.5, 0.5, 0.8, 0.6, 0.3, 0.5, ...</td>\n    </tr>\n  </tbody>\n</table>\n<p>5 rows × 96 columns</p>\n</div>"
          },
          "metadata": {}
        }
      ]
    },
    {
      "cell_type": "code",
      "source": "# Pivot_table.to_excel(\"WIND_DATA_Pollutants.xlsx\")",
      "metadata": {
        "trusted": true
      },
      "execution_count": 43,
      "outputs": []
    },
    {
      "cell_type": "code",
      "source": "# Pivot_table.shape",
      "metadata": {
        "trusted": true
      },
      "execution_count": 24,
      "outputs": [
        {
          "execution_count": 24,
          "output_type": "execute_result",
          "data": {
            "text/plain": "(5, 12)"
          },
          "metadata": {}
        }
      ]
    },
    {
      "cell_type": "code",
      "source": "# Pivot_table = df.pivot_table(index=\"Year\", columns=\"Month\", values=[\"NOx\",\"NO2\",\"NO\",\"CO\",\"Ozone\",\"Benzene\",\"Toluene\",\"Xylene\"], aggfunc=list)",
      "metadata": {
        "trusted": true
      },
      "execution_count": 41,
      "outputs": []
    },
    {
      "cell_type": "code",
      "source": "# Pivot_table.to_excel(\"Whisker_sortedPM2.5.xlsx\")",
      "metadata": {
        "trusted": true
      },
      "execution_count": 29,
      "outputs": []
    },
    {
      "cell_type": "code",
      "source": "%pip install seaborn",
      "metadata": {
        "trusted": true
      },
      "execution_count": 57,
      "outputs": []
    },
    {
      "cell_type": "code",
      "source": "df.sort_values('Date',inplace=True)",
      "metadata": {
        "trusted": true
      },
      "execution_count": 56,
      "outputs": []
    },
    {
      "cell_type": "code",
      "source": "# grouped =  df.groupby(['Month','Year'])[\"PM2.5\"",
      "metadata": {
        "trusted": true
      },
      "execution_count": null,
      "outputs": []
    },
    {
      "cell_type": "code",
      "source": "# grouped.head()",
      "metadata": {
        "trusted": true
      },
      "execution_count": null,
      "outputs": []
    },
    {
      "cell_type": "code",
      "source": "import seaborn as sns\nimport matplotlib.pyplot as plt",
      "metadata": {
        "trusted": true
      },
      "execution_count": 58,
      "outputs": []
    },
    {
      "cell_type": "code",
      "source": "plt.figure(figsize=(14, 8))\njanuary.boxplot()",
      "metadata": {
        "trusted": true
      },
      "execution_count": null,
      "outputs": []
    },
    {
      "cell_type": "code",
      "source": "df.head()",
      "metadata": {
        "trusted": true
      },
      "execution_count": null,
      "outputs": []
    },
    {
      "cell_type": "code",
      "source": "\n\n\n# correlation_matrix = df.corr()\n\n# # Plotting the correlation matrix as a heatmap\n# plt.figure(figsize=(14, 8))\n# sns.heatmap(correlation_matrix, annot=True, cmap='coolwarm')\n# plt.title(\"Correlation Matrix\")\n# plt.show()\n",
      "metadata": {
        "trusted": true
      },
      "execution_count": null,
      "outputs": []
    },
    {
      "cell_type": "code",
      "source": "# plt.savefig('Correlation_matrix.jpg')",
      "metadata": {
        "trusted": true
      },
      "execution_count": null,
      "outputs": []
    },
    {
      "cell_type": "code",
      "source": "# import numpy as np\n\n# # Generate the whisker plot\n# plt.figure(figsize = (14,8))\n# january.boxplot()\n\n# # Add a curve connecting the mean values\n# groups = january.columns\n# means = january.mean().values\n# x = np.arange(1, len(groups) )\n# plt.plot(x, means, marker='o', linestyle='-', color='red')\n\n# # Add mean labels\n# for i, mean in enumerate(means):\n#     plt.text(x[i], mean, f'{mean:.2f}', ha='center', va='bottom')\n\n# # Add a title and labels to the plot\n# plt.title('Whisker Plot with Mean Curve')\n# plt.xlabel('Groups')\n# plt.ylabel('Values')\n\n# # Show the plot\n# plt.show()\n",
      "metadata": {
        "trusted": true
      },
      "execution_count": null,
      "outputs": []
    },
    {
      "cell_type": "code",
      "source": "features = df.loc[:,\"Temp\":]",
      "metadata": {
        "trusted": true
      },
      "execution_count": null,
      "outputs": []
    },
    {
      "cell_type": "code",
      "source": "features.isnull().any().any()",
      "metadata": {
        "trusted": true
      },
      "execution_count": null,
      "outputs": []
    },
    {
      "cell_type": "code",
      "source": "target_variables = ['CO','Ozone','NO','NO2','NOx','NH3','SO2','PM2.5']",
      "metadata": {
        "trusted": true
      },
      "execution_count": null,
      "outputs": []
    },
    {
      "cell_type": "code",
      "source": "",
      "metadata": {
        "trusted": true
      },
      "execution_count": null,
      "outputs": []
    },
    {
      "cell_type": "code",
      "source": "from sklearn.linear_model import LinearRegression",
      "metadata": {
        "trusted": true
      },
      "execution_count": null,
      "outputs": []
    },
    {
      "cell_type": "code",
      "source": "for target in target_variables:\n    y = df[target]\n\n    model = LinearRegression()\n    model.fit(features,y)\n    \n    coefficients = model.coef_\n    intercept = model.intercept_\n    \n    # Print the equation of the linear regression model\n    equation = '{} = {:.2f}'.format(target,intercept)\n    for i, feature_name in enumerate(features.columns):\n        coefficient = coefficients[i]\n        equation += ' + {:.2f} * {}'.format(coefficient, feature_name)\n\n    print('Equation:', equation)",
      "metadata": {
        "trusted": true
      },
      "execution_count": null,
      "outputs": []
    },
    {
      "cell_type": "code",
      "source": "print(\"Coefficients:\",model.coef_)\nprint(\"Intercept:\",model.intercept_)",
      "metadata": {
        "trusted": true
      },
      "execution_count": null,
      "outputs": []
    }
  ]
}